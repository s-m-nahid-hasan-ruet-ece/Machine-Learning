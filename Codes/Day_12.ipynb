{
 "cells": [
  {
   "cell_type": "markdown",
   "metadata": {},
   "source": [
    "1. Tutorial 24- Histogram in EDA- Data Science\n",
    "2. Tutorial 24-Z Score Statistics Data Science\n",
    "3. Tutorial 25- Probability Density function and CDF- EDA-Data Science\n",
    "4. Tutorial 26- Linear Regression Indepth Maths Intuition- Data Science\n",
    "5. Tutorial 27- Ridge and Lasso Regression Indepth Intuition- Data Science\n",
    "6. Tutorial 28- Ridge and Lasso Regression using Python and Sklearn\n",
    "7. Multiple Linear Regression using python and sklearn\n",
    "8. Tutorial 28-MultiCollinearity In Linear Regression- Part 2\n",
    "9. Machine Learning-Bias And Variance In Depth Intuition| Overfitting Underfitting\n",
    "10. Tutorial 29-R square and Adjusted R square Clearly Explained| Machine Learning\n",
    "11. Tutorial 31- Hypothesis Test, Type 1 Error, Type 2 Error\n",
    "12. What Is P Value In Statistics In Simple Language?\n",
    "13. Tutorial 32- All About P Value,T test,Chi Square Test, Anova Test  and When  to Use What?\n",
    "14. Tutorial 33- P Value,T test, Correlation Implementation with Python- Hypothesis Testing\n",
    "15. Tutorial 33- Chi Square Test Implementation with Python- Hypothesis Testing- Part 2\n",
    "16. Tutorial 34- Performance Metrics For Classification Problem In Machine Learning- Part1\n",
    "17. Tutorial 35- Logistic Regression Indepth Intuition- Part 1| Data Science\n",
    "18. Tutorial 36- Logistic Regression Mutliclass Classification(OneVsRest)- Part 3| Data Science\n",
    "19. Tutorial 37: Entropy In Decision Tree Intuition"
   ]
  },
  {
   "cell_type": "markdown",
   "metadata": {},
   "source": [
    "### **1. Tutorial 24- Histogram in EDA- Data Science**\n"
   ]
  },
  {
   "cell_type": "markdown",
   "metadata": {},
   "source": [
    "###  **2. Tutorial 24-Z Score Statistics Data Science**\n"
   ]
  },
  {
   "cell_type": "markdown",
   "metadata": {},
   "source": [
    "###  **3. Tutorial 25- Probability Density function and CDF- EDA-Data Science**\n",
    "\n",
    "- PDF\n",
    "- PMF\n",
    "- CDF\n",
    "- \n",
    "\n",
    "https://medium.com/analytics-vidhya/pdf-pmf-and-cdf-in-machine-learning-225b41242abe"
   ]
  },
  {
   "cell_type": "code",
   "execution_count": 3,
   "metadata": {},
   "outputs": [
    {
     "data": {
      "text/html": [
       "<div>\n",
       "<style scoped>\n",
       "    .dataframe tbody tr th:only-of-type {\n",
       "        vertical-align: middle;\n",
       "    }\n",
       "\n",
       "    .dataframe tbody tr th {\n",
       "        vertical-align: top;\n",
       "    }\n",
       "\n",
       "    .dataframe thead th {\n",
       "        text-align: right;\n",
       "    }\n",
       "</style>\n",
       "<table border=\"1\" class=\"dataframe\">\n",
       "  <thead>\n",
       "    <tr style=\"text-align: right;\">\n",
       "      <th></th>\n",
       "      <th>Id</th>\n",
       "      <th>SepalLengthCm</th>\n",
       "      <th>SepalWidthCm</th>\n",
       "      <th>PetalLengthCm</th>\n",
       "      <th>PetalWidthCm</th>\n",
       "      <th>Species</th>\n",
       "    </tr>\n",
       "  </thead>\n",
       "  <tbody>\n",
       "    <tr>\n",
       "      <th>0</th>\n",
       "      <td>1</td>\n",
       "      <td>5.1</td>\n",
       "      <td>3.5</td>\n",
       "      <td>1.4</td>\n",
       "      <td>0.2</td>\n",
       "      <td>Iris-setosa</td>\n",
       "    </tr>\n",
       "    <tr>\n",
       "      <th>1</th>\n",
       "      <td>2</td>\n",
       "      <td>4.9</td>\n",
       "      <td>3.0</td>\n",
       "      <td>1.4</td>\n",
       "      <td>0.2</td>\n",
       "      <td>Iris-setosa</td>\n",
       "    </tr>\n",
       "    <tr>\n",
       "      <th>2</th>\n",
       "      <td>3</td>\n",
       "      <td>4.7</td>\n",
       "      <td>3.2</td>\n",
       "      <td>1.3</td>\n",
       "      <td>0.2</td>\n",
       "      <td>Iris-setosa</td>\n",
       "    </tr>\n",
       "    <tr>\n",
       "      <th>3</th>\n",
       "      <td>4</td>\n",
       "      <td>4.6</td>\n",
       "      <td>3.1</td>\n",
       "      <td>1.5</td>\n",
       "      <td>0.2</td>\n",
       "      <td>Iris-setosa</td>\n",
       "    </tr>\n",
       "    <tr>\n",
       "      <th>4</th>\n",
       "      <td>5</td>\n",
       "      <td>5.0</td>\n",
       "      <td>3.6</td>\n",
       "      <td>1.4</td>\n",
       "      <td>0.2</td>\n",
       "      <td>Iris-setosa</td>\n",
       "    </tr>\n",
       "  </tbody>\n",
       "</table>\n",
       "</div>"
      ],
      "text/plain": [
       "   Id  SepalLengthCm  SepalWidthCm  PetalLengthCm  PetalWidthCm      Species\n",
       "0   1            5.1           3.5            1.4           0.2  Iris-setosa\n",
       "1   2            4.9           3.0            1.4           0.2  Iris-setosa\n",
       "2   3            4.7           3.2            1.3           0.2  Iris-setosa\n",
       "3   4            4.6           3.1            1.5           0.2  Iris-setosa\n",
       "4   5            5.0           3.6            1.4           0.2  Iris-setosa"
      ]
     },
     "execution_count": 3,
     "metadata": {},
     "output_type": "execute_result"
    }
   ],
   "source": [
    "import pandas as pd\n",
    "import numpy as np\n",
    "import seaborn as sns\n",
    "import matplotlib.pyplot as plt\n",
    "import warnings;\n",
    "warnings.filterwarnings('ignore');\n",
    "iris=pd.read_csv('../Datasets/iris.csv')\n",
    "iris.shape\n",
    "iris.head()"
   ]
  },
  {
   "cell_type": "code",
   "execution_count": 13,
   "metadata": {},
   "outputs": [
    {
     "data": {
      "text/plain": [
       "Text(0.5, 1.0, 'PDF of Petal Length')"
      ]
     },
     "execution_count": 13,
     "metadata": {},
     "output_type": "execute_result"
    },
    {
     "data": {
      "image/png": "[encoded data removed]",
      "text/plain": [
       "<Figure size 432x288 with 1 Axes>"
      ]
     },
     "metadata": {
      "needs_background": "light"
     },
     "output_type": "display_data"
    }
   ],
   "source": [
    "\n",
    "sns.distplot(iris[iris['Species']== 'Iris-setosa']['PetalLengthCm'])\n",
    "plt.title('PDF of Petal Length')"
   ]
  },
  {
   "cell_type": "code",
   "execution_count": null,
   "metadata": {},
   "outputs": [],
   "source": []
  },
  {
   "cell_type": "markdown",
   "metadata": {},
   "source": [
    "### **4. Tutorial 26- Linear Regression Indepth Maths Intuition- Data Science**\n",
    "\n",
    "\n",
    "https://medium.com/swlh/an-intuitive-approach-to-linear-regression-b127da628e45"
   ]
  },
  {
   "cell_type": "markdown",
   "metadata": {},
   "source": [
    "### **5. Tutorial 27- Ridge and Lasso Regression Indepth Intuition- Data Science**\n"
   ]
  },
  {
   "cell_type": "markdown",
   "metadata": {},
   "source": [
    "### **6. Tutorial 28- Ridge and Lasso Regression using Python and Sklearn**\n"
   ]
  },
  {
   "cell_type": "markdown",
   "metadata": {},
   "source": [
    "### ** 7. Multiple Linear Regression using python and sklearn**\n"
   ]
  },
  {
   "cell_type": "markdown",
   "metadata": {},
   "source": [
    "### ** 8. Tutorial 28-MultiCollinearity In Linear Regression- Part 2**\n"
   ]
  },
  {
   "cell_type": "markdown",
   "metadata": {},
   "source": [
    "### ** 9. Machine Learning-Bias And Variance In Depth Intuition| Overfitting Underfitting**\n"
   ]
  },
  {
   "cell_type": "markdown",
   "metadata": {},
   "source": [
    "### ** 10. Tutorial 29-R square and Adjusted R square Clearly Explained| Machine Learning**\n"
   ]
  },
  {
   "cell_type": "markdown",
   "metadata": {},
   "source": [
    "### ** 11. Tutorial 31- Hypothesis Test, Type 1 Error, Type 2 Error**\n"
   ]
  },
  {
   "cell_type": "markdown",
   "metadata": {},
   "source": [
    "### ** 12. What Is P Value In Statistics In Simple Language?**\n"
   ]
  },
  {
   "cell_type": "markdown",
   "metadata": {},
   "source": [
    "### ** 13. Tutorial 32- All About P Value,T test,Chi Square Test, Anova Test  and When  to Use What?**\n"
   ]
  },
  {
   "cell_type": "markdown",
   "metadata": {},
   "source": [
    "### ** 14. Tutorial 33- P Value,T test, Correlation Implementation with Python- Hypothesis Testing**\n"
   ]
  },
  {
   "cell_type": "markdown",
   "metadata": {},
   "source": [
    "### ** 15. Tutorial 33- Chi Square Test Implementation with Python- Hypothesis Testing- Part 2**\n"
   ]
  },
  {
   "cell_type": "markdown",
   "metadata": {},
   "source": [
    "### ** 16. Tutorial 34- Performance Metrics For Classification Problem In Machine Learning- Part1**\n"
   ]
  },
  {
   "cell_type": "markdown",
   "metadata": {},
   "source": [
    "### ** 17. Tutorial 35- Logistic Regression Indepth Intuition- Part 1| Data Science**\n"
   ]
  },
  {
   "cell_type": "markdown",
   "metadata": {},
   "source": [
    "### ** 18. Tutorial 36- Logistic Regression Mutliclass Classification(OneVsRest)- Part 3| Data Science**\n"
   ]
  },
  {
   "cell_type": "markdown",
   "metadata": {},
   "source": [
    "### ** 19. Tutorial 37: Entropy In Decision Tree Intuition**"
   ]
  }
 ],
 "metadata": {
  "interpreter": {
   "hash": "dc07d24e2f18896857f0b2a651fe84ba40ce7b297e58d8804a308c8039f752a6"
  },
  "kernelspec": {
   "display_name": "Python 3.9.7 ('base')",
   "language": "python",
   "name": "python3"
  },
  "language_info": {
   "codemirror_mode": {
    "name": "ipython",
    "version": 3
   },
   "file_extension": ".py",
   "mimetype": "text/x-python",
   "name": "python",
   "nbconvert_exporter": "python",
   "pygments_lexer": "ipython3",
   "version": "3.9.7"
  },
  "orig_nbformat": 4
 },
 "nbformat": 4,
 "nbformat_minor": 2
}
