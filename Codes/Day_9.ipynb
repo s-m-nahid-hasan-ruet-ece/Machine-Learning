{
 "cells": [
  {
   "cell_type": "markdown",
   "metadata": {},
   "source": [
    "Standardization Vs Normalization- Feature Scaling\n",
    "What Is P Value In Statistics In Simple Language?\n",
    "Left Skewed And Right Skewed Distribution And Relation With Mean, Median And Mode\n",
    "Confidence Intervals In Statistics-\n",
    "Bernoulli distribution- Mean, Variance And Standard Deviation OF Bernoulli distribution\n",
    "5 Number Summary And How To handle Outliers Using IQR-Statistics\n",
    "Different Type Of Sampling Techniques With Examples"
   ]
  },
  {
   "cell_type": "markdown",
   "metadata": {},
   "source": [
    "####  **Standardization Vs Normalization- Feature Scaling**\n",
    "\n",
    "https://www.analyticsvidhya.com/blog/2020/04/feature-scaling-machine-learning-normalization-standardization/\n",
    "\n",
    "https://www.geeksforgeeks.org/normalization-vs-standardization/\n",
    "\n",
    "https://www.statology.org/normalize-columns-pandas-dataframe/"
   ]
  },
  {
   "cell_type": "code",
   "execution_count": 1,
   "metadata": {},
   "outputs": [
    {
     "name": "stdout",
     "output_type": "stream",
     "text": [
      "   feature0  feature1  feature2  feature3\n",
      "0        18  1.797434  1.025393 -0.908151\n",
      "1        12 -0.599145 -0.146485 -0.908151\n",
      "2        15 -0.599145  0.634767 -0.525772\n",
      "3        14  0.000000 -0.927736 -0.908151\n",
      "4        19  0.898717 -0.927736  0.238987\n",
      "5        23  0.000000 -1.318362  0.238987\n",
      "6        25  0.000000  0.244141  1.003746\n",
      "7        29 -1.497862  1.416019  1.768505\n"
     ]
    }
   ],
   "source": [
    "# Standardization  \n",
    "\n",
    "import pandas as pd\n",
    "\n",
    "df = pd.DataFrame({'feature0': [18, 12, 15, 14, 19, 23, 25, 29],\n",
    "                   'feature1': [15, 7, 7, 9, 12, 9, 9, 4],\n",
    "                   'feature2': [11, 8, 10, 6, 6, 5, 9, 12],\n",
    "                   'feature3': [2, 2, 3, 2, 5, 5, 7, 9]})\n",
    "\n",
    "selected_features = df[['feature1', 'feature2', 'feature3']] \n",
    "\n",
    "df[['feature1', 'feature2', 'feature3']] = (selected_features - selected_features.mean())/selected_features.std()\n",
    "\n",
    "print(df)"
   ]
  },
  {
   "cell_type": "code",
   "execution_count": 2,
   "metadata": {},
   "outputs": [
    {
     "name": "stdout",
     "output_type": "stream",
     "text": [
      "   feature0  feature1  feature2  feature3\n",
      "0        18  1.000000  0.857143  0.000000\n",
      "1        12  0.272727  0.428571  0.000000\n",
      "2        15  0.272727  0.714286  0.142857\n",
      "3        14  0.454545  0.142857  0.000000\n",
      "4        19  0.727273  0.142857  0.428571\n",
      "5        23  0.454545  0.000000  0.428571\n",
      "6        25  0.454545  0.571429  0.714286\n",
      "7        29  0.000000  1.000000  1.000000\n"
     ]
    }
   ],
   "source": [
    "#  Normalization \n",
    "import pandas as pd\n",
    "\n",
    "df = pd.DataFrame({'feature0': [18, 12, 15, 14, 19, 23, 25, 29],\n",
    "                   'feature1': [15, 7, 7, 9, 12, 9, 9, 4],\n",
    "                   'feature2': [11, 8, 10, 6, 6, 5, 9, 12],\n",
    "                   'feature3': [2, 2, 3, 2, 5, 5, 7, 9]})\n",
    "\n",
    "selected_features = df[['feature1', 'feature2', 'feature3']] \n",
    "\n",
    "df[['feature1', 'feature2', 'feature3']] = (selected_features - selected_features.min())/(selected_features.max()-selected_features.min())\n",
    "\n",
    "print(df)\n"
   ]
  },
  {
   "cell_type": "markdown",
   "metadata": {},
   "source": [
    "####  **What Is P Value In Statistics In Simple Language?**\n",
    "\n",
    "The p-value is a number, calculated from a statistical test, that describes how likely you are to have found a particular set of observations if the null hypothesis were true.\n",
    "\n",
    "P-values are used in hypothesis testing to help decide whether to reject the null hypothesis. The smaller the p-value, the more likely you are to reject the null hypothesis.\n",
    "\n",
    "\n",
    "\n",
    "https://www.scribbr.com/statistics/p-value/\n",
    "\n",
    "https://www.investopedia.com/terms/p/p-value.asp\n",
    "\n",
    "https://www.tutorialspoint.com/python_data_science/python_p_value.htm"
   ]
  },
  {
   "cell_type": "code",
   "execution_count": 4,
   "metadata": {},
   "outputs": [
    {
     "name": "stdout",
     "output_type": "stream",
     "text": [
      "Ttest_1sampResult(statistic=array([-1.23945104,  0.89289749]), pvalue=array([0.22108221, 0.37627643]))\n"
     ]
    }
   ],
   "source": [
    "from scipy import stats\n",
    "rvs = stats.norm.rvs(loc = 5, scale = 10, size = (50,2))\n",
    "print(stats.ttest_1samp(rvs,5.0))\n",
    "\n"
   ]
  },
  {
   "cell_type": "code",
   "execution_count": 5,
   "metadata": {},
   "outputs": [
    {
     "name": "stdout",
     "output_type": "stream",
     "text": [
      "Ttest_indResult(statistic=0.17590624718335446, pvalue=0.8604032827435298)\n"
     ]
    }
   ],
   "source": [
    "from scipy import stats\n",
    "rvs1 = stats.norm.rvs(loc = 5,scale = 10,size = 500)\n",
    "rvs2 = stats.norm.rvs(loc = 5,scale = 10,size = 500)\n",
    "print(stats.ttest_ind(rvs1,rvs2))\n"
   ]
  },
  {
   "cell_type": "markdown",
   "metadata": {},
   "source": [
    "####  **Left Skewed And Right Skewed Distribution And Relation With Mean, Median And Mode**\n",
    "\n",
    "![Left Skewed](../Datasets/skew2-768x785.png)\n",
    "\n",
    "![Right Skewed](../Datasets/skew1-768x790.png)\n",
    "\n",
    "![No Skewed](../Datasets/skew3-768x798.png)\n",
    "\n",
    "\n",
    "**Left Skewed Distribution:** Mean < Median < Mode\n",
    "\n",
    "**Right Skewed Distribution:** Mode < Median < Mean\n",
    "\n",
    "\n",
    "\n",
    "\n",
    "\n",
    "\n",
    "https://www.statology.org/left-skewed-vs-right-skewed/\n",
    "\n",
    "https://www.statology.org/positively-skewed-distribution-examples/\n",
    "\n",
    "https://www.statology.org/negatively-skewed-distribution-examples/\n",
    "\n",
    "https://www.geeksforgeeks.org/python-pandas-dataframe-skew/"
   ]
  },
  {
   "cell_type": "code",
   "execution_count": 12,
   "metadata": {},
   "outputs": [
    {
     "name": "stderr",
     "output_type": "stream",
     "text": [
      "C:\\Users\\HP\\AppData\\Local\\Temp/ipykernel_15716/3309310863.py:11: FutureWarning: Dropping of nuisance columns in DataFrame reductions (with 'numeric_only=None') is deprecated; in a future version this will raise TypeError.  Select only valid columns before calling the reduction.\n",
      "  df.skew(axis = 0, skipna = True)\n"
     ]
    },
    {
     "data": {
      "text/plain": [
       "Id                0.000000\n",
       "MSSubClass        1.346690\n",
       "LotFrontage       0.661921\n",
       "LotArea           3.115217\n",
       "OverallQual       0.181196\n",
       "OverallCond       0.449165\n",
       "YearBuilt        -0.587657\n",
       "YearRemodAdd     -0.399906\n",
       "MasVnrArea        2.533377\n",
       "BsmtFinSF1        1.165677\n",
       "BsmtFinSF2        4.041345\n",
       "BsmtUnfSF         0.919916\n",
       "TotalBsmtSF       0.813589\n",
       "1stFlrSF          1.558195\n",
       "2ndFlrSF          0.912883\n",
       "LowQualFinSF     16.167254\n",
       "GrLivArea         1.130402\n",
       "BsmtFullBath      0.649698\n",
       "BsmtHalfBath      3.779866\n",
       "FullBath          0.295839\n",
       "HalfBath          0.714728\n",
       "BedroomAbvGr      0.436623\n",
       "KitchenAbvGr      4.079055\n",
       "TotRmsAbvGrd      0.842597\n",
       "Fireplaces        0.819858\n",
       "GarageYrBlt      -0.158363\n",
       "GarageCars       -0.107142\n",
       "GarageArea        0.300239\n",
       "WoodDeckSF        2.130760\n",
       "OpenPorchSF       2.687779\n",
       "EnclosedPorch     4.669172\n",
       "3SsnPorch        12.524216\n",
       "ScreenPorch       3.788244\n",
       "PoolArea         20.196888\n",
       "MiscVal          20.075188\n",
       "MoSold            0.183022\n",
       "YrSold            0.168986\n",
       "dtype: float64"
      ]
     },
     "execution_count": 12,
     "metadata": {},
     "output_type": "execute_result"
    }
   ],
   "source": [
    "import pandas as pd\n",
    "\n",
    "df = pd.read_csv(\"../Datasets/test.csv\")\n",
    "\n",
    "df.head()\n",
    "df.skew(axis = 0, skipna = True)\n",
    "\n"
   ]
  },
  {
   "cell_type": "markdown",
   "metadata": {},
   "source": [
    "####  **Confidence Intervals In Statistics-**\n",
    "\n",
    "A confidence interval, in statistics, refers to the probability that a population parameter will fall between a set of values for a certain proportion of times.\n",
    "\n",
    "- A confidence interval displays the probability that a parameter will fall between a pair of values around the mean.\n",
    "- Confidence intervals measure the degree of uncertainty or certainty in a sampling method.\n",
    "- They are most often constructed using confidence levels of 95% or 99%.\n",
    "\n",
    "\n",
    "\n",
    "https://www.investopedia.com/terms/c/confidenceinterval.asp\n",
    "\n",
    "https://www.scribbr.com/statistics/confidence-interval/\n",
    "\n",
    "https://www.geeksforgeeks.org/how-to-calculate-confidence-intervals-in-python/\n"
   ]
  },
  {
   "cell_type": "code",
   "execution_count": 13,
   "metadata": {},
   "outputs": [
    {
     "data": {
      "text/plain": [
       "(2.3481954013214263, 5.4518045986785735)"
      ]
     },
     "execution_count": 13,
     "metadata": {},
     "output_type": "execute_result"
    }
   ],
   "source": [
    "# Confidence interval\n",
    "\n",
    "import numpy as np\n",
    "import scipy.stats as st\n",
    "\n",
    "data = [1, 1, 1, 2, 2, 2, 3, 3, 3,\n",
    "\t\t\t3, 3, 4, 4, 5, 5, 5, 6,\n",
    "\t\t\t7, 8, 10]\n",
    "\n",
    "st.t.interval(alpha=0.99,\n",
    "\t\t\tdf=len(data)-1,\n",
    "\t\t\tloc=np.mean(data),\n",
    "\t\t\tscale=st.sem(data))\n"
   ]
  },
  {
   "cell_type": "markdown",
   "metadata": {},
   "source": [
    "####  **Bernoulli distribution- Mean, Variance And Standard Deviation OF Bernoulli distribution**\n",
    "\n",
    "A Bernoulli distribution is a discrete probability distribution for a Bernoulli trial — a random experiment that has only two outcomes (usually called a “Success” or a “Failure”). For example, the probability of getting a heads (a “success”) while flipping a coin is 0.5. The probability of “failure” is 1 – P (1 minus the probability of success, which also equals 0.5 for a coin toss). It is a special case of the binomial distribution for n = 1. In other words, it is a binomial distribution with a single trial (e.g. a single coin toss).\n",
    "\n",
    "\n",
    "https://mathworld.wolfram.com/BernoulliDistribution.html\n",
    "\n",
    "https://www.statisticshowto.com/bernoulli-distribution/\n",
    "\n",
    "https://www.geeksforgeeks.org/python-bernoulli-distribution-in-statistics/"
   ]
  },
  {
   "cell_type": "code",
   "execution_count": 14,
   "metadata": {},
   "outputs": [
    {
     "name": "stderr",
     "output_type": "stream",
     "text": [
      "c:\\Users\\HP\\anaconda3\\lib\\site-packages\\seaborn\\distributions.py:2619: FutureWarning: `distplot` is a deprecated function and will be removed in a future version. Please adapt your code to use either `displot` (a figure-level function with similar flexibility) or `histplot` (an axes-level function for histograms).\n",
      "  warnings.warn(msg, FutureWarning)\n"
     ]
    },
    {
     "data": {
      "text/plain": [
       "[Text(0.5, 0, 'Bernouli'), Text(0, 0.5, 'Frequency')]"
      ]
     },
     "execution_count": 14,
     "metadata": {},
     "output_type": "execute_result"
    },
    {
     "data": {
      "image/png": "[encoded data removed]",
      "text/plain": [
       "<Figure size 432x288 with 1 Axes>"
      ]
     },
     "metadata": {
      "needs_background": "light"
     },
     "output_type": "display_data"
    }
   ],
   "source": [
    "from scipy.stats import bernoulli\n",
    "import seaborn as sb\n",
    "\n",
    "data_bern = bernoulli.rvs(size=1000,p=0.6)\n",
    "ax = sb.distplot(data_bern,\n",
    "                  kde=True,\n",
    "                  color='crimson',\n",
    "                  hist_kws={\"linewidth\": 25,'alpha':1})\n",
    "ax.set(xlabel='Bernouli', ylabel='Frequency')"
   ]
  },
  {
   "cell_type": "markdown",
   "metadata": {},
   "source": [
    "####  **5 Number Summary And How To handle Outliers Using IQR-Statistics**\n",
    "\n",
    "\n",
    "https://www.statisticshowto.com/statistics-basics/how-to-find-a-five-number-summary-in-statistics/\n",
    "\n",
    "https://www.statisticshowto.com/statistics-basics/find-outliers/\n",
    "\n",
    "https://www.geeksforgeeks.org/how-to-calculate-the-5-number-summary/\n",
    "\n",
    "https://pythonprogramminglanguage.com/statistics/\n",
    "\n",
    "https://www.geeksforgeeks.org/interquartile-range-to-detect-outliers-in-data/"
   ]
  },
  {
   "cell_type": "code",
   "execution_count": 15,
   "metadata": {},
   "outputs": [
    {
     "name": "stdout",
     "output_type": "stream",
     "text": [
      "1\n",
      "17\n",
      "5.243408560596183\n",
      "9.2\n",
      "9.0\n"
     ]
    }
   ],
   "source": [
    "import math\n",
    "import numpy\n",
    "\n",
    "x = [1,2,15,3,6,17,8,16,8,3,10,12,16,12,9]\n",
    "\n",
    "print(numpy.min(x))\n",
    "print(numpy.max(x))\n",
    "print(numpy.std(x))\n",
    "print(numpy.mean(x))\n",
    "print(numpy.median(x))"
   ]
  },
  {
   "cell_type": "code",
   "execution_count": 17,
   "metadata": {},
   "outputs": [
    {
     "name": "stdout",
     "output_type": "stream",
     "text": [
      "Q1 25 percentile of the given data is,  2.5\n",
      "Q1 50 percentile of the given data is,  4.0\n",
      "Q1 75 percentile of the given data is,  5.5\n",
      "Interquartile range is 3.0\n",
      "low_limit is -2.0\n",
      "up_limit is 10.0\n",
      " outlier in the dataset is [50]\n"
     ]
    }
   ],
   "source": [
    "import numpy as np\n",
    "import seaborn as sns\n",
    "\n",
    "data = [6, 2, 3, 4, 5, 1, 50]\n",
    "sort_data = np.sort(data)\n",
    "sort_data\n",
    "\n",
    "Q1 = np.percentile(data, 25, interpolation = 'midpoint')\n",
    "Q2 = np.percentile(data, 50, interpolation = 'midpoint')\n",
    "Q3 = np.percentile(data, 75, interpolation = 'midpoint')\n",
    "\n",
    "print('Q1 25 percentile of the given data is, ', Q1)\n",
    "print('Q1 50 percentile of the given data is, ', Q2)\n",
    "print('Q1 75 percentile of the given data is, ', Q3)\n",
    "\n",
    "IQR = Q3 - Q1\n",
    "print('Interquartile range is', IQR)\n",
    "\n",
    "low_lim = Q1 - 1.5 * IQR\n",
    "up_lim = Q3 + 1.5 * IQR\n",
    "print('low_limit is', low_lim)\n",
    "print('up_limit is', up_lim)\n",
    "\n",
    "outlier =[]\n",
    "for x in data:\n",
    "\tif ((x> up_lim) or (x<low_lim)):\n",
    "\t\toutlier.append(x)\n",
    "print(' outlier in the dataset is', outlier)\n"
   ]
  },
  {
   "cell_type": "code",
   "execution_count": 16,
   "metadata": {},
   "outputs": [
    {
     "data": {
      "text/plain": [
       "3.0"
      ]
     },
     "execution_count": 16,
     "metadata": {},
     "output_type": "execute_result"
    }
   ],
   "source": [
    "from scipy import stats\n",
    "IQR = stats.iqr(data, interpolation = 'midpoint')\n",
    "IQR\n"
   ]
  },
  {
   "cell_type": "markdown",
   "metadata": {},
   "source": [
    "####  **Different Type Of Sampling Techniques With Examples**\n",
    "\n",
    "https://www.scribbr.com/methodology/sampling-methods/\n",
    "\n",
    "https://www.questionpro.com/blog/types-of-sampling-for-social-research/\n",
    "\n",
    "https://towardsdatascience.com/data-sampling-methods-in-python-a4400628ea1b\n",
    "\n",
    "https://towardsdatascience.com/probability-sampling-with-python-8c977ad78664"
   ]
  }
 ],
 "metadata": {
  "interpreter": {
   "hash": "dc07d24e2f18896857f0b2a651fe84ba40ce7b297e58d8804a308c8039f752a6"
  },
  "kernelspec": {
   "display_name": "Python 3.9.7 ('base')",
   "language": "python",
   "name": "python3"
  },
  "language_info": {
   "codemirror_mode": {
    "name": "ipython",
    "version": 3
   },
   "file_extension": ".py",
   "mimetype": "text/x-python",
   "name": "python",
   "nbconvert_exporter": "python",
   "pygments_lexer": "ipython3",
   "version": "3.9.7"
  },
  "orig_nbformat": 4
 },
 "nbformat": 4,
 "nbformat_minor": 2
}
