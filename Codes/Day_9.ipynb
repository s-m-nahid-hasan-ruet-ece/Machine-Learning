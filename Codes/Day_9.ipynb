{
 "cells": [
  {
   "cell_type": "markdown",
   "metadata": {},
   "source": [
    "Standardization Vs Normalization- Feature Scaling\n",
    "What Is P Value In Statistics In Simple Language?\n",
    "Left Skewed And Right Skewed Distribution And Relation With Mean, Median And Mode\n",
    "Confidence Intervals In Statistics-\n",
    "Bernoulli distribution- Mean, Variance And Standard Deviation OF Bernoulli distribution\n",
    "5 Number Summary And How To handle Outliers Using IQR-Statistics\n",
    "Different Type Of Sampling Techniques With Examples"
   ]
  },
  {
   "cell_type": "markdown",
   "metadata": {},
   "source": [
    "####  **Left Skewed And Right Skewed Distribution And Relation With Mean, Median And Mode**"
   ]
  },
  {
   "cell_type": "markdown",
   "metadata": {},
   "source": [
    "####  **Bernoulli distribution- Mean, Variance And Standard Deviation OF Bernoulli distribution**"
   ]
  }
 ],
 "metadata": {
  "language_info": {
   "name": "python"
  },
  "orig_nbformat": 4
 },
 "nbformat": 4,
 "nbformat_minor": 2
}
