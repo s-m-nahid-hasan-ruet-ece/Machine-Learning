{
 "cells": [
  {
   "cell_type": "markdown",
   "metadata": {},
   "source": [
    "###   **Today's Topics:**\n",
    "\n",
    "1. Exception handling in details                                              \n",
    "2. Custom exception handing                                                   \n",
    "3. Inheritance python                                                         \n",
    "4. Magic Method in classes                                                    \n",
    "5. Assert statement                                                           \n",
    "6. Iterators vs Generators                                                    \n",
    "7. Decorators & its implementations                                           \n",
    "8. Boolean evaluation                                                         \n",
    "9. Shallow copy & deep copy python                                            \n",
    "10. How to speed up pandas libraries 3x or 4x times (Mode in pandas library)  \n",
    "\n",
    "\n",
    "###   **Resources:**"
   ]
  },
  {
   "cell_type": "code",
   "execution_count": 3,
   "metadata": {},
   "outputs": [
    {
     "name": "stdout",
     "output_type": "stream",
     "text": [
      "Third element: 3\n",
      "Error occured\n"
     ]
    }
   ],
   "source": [
    "a = [ 1, 2, 3]\n",
    "\n",
    "try:\n",
    "    print(\"Third element: %d\" %(a[2]))\n",
    "    print(\"Fourth element: %d\" %(a[3]))\n",
    "\n",
    "except:\n",
    "    print(\"Error occured\")\n"
   ]
  },
  {
   "cell_type": "code",
   "execution_count": 5,
   "metadata": {},
   "outputs": [
    {
     "name": "stdout",
     "output_type": "stream",
     "text": [
      "2.0\n",
      "Undefined\n"
     ]
    }
   ],
   "source": [
    "def Division(a, b):\n",
    "    return a/b\n",
    "\n",
    "    # Name Error\n",
    "    #print(\"value of c=\", c)\n",
    "\n",
    "try:\n",
    "    print(Division(4,2))\n",
    "    print(Division(5,0))\n",
    "\n",
    "except ZeroDivisionError:\n",
    "    print(\"Undefined\")\n",
    "except NameError:\n",
    "    print(\"Name Error occured\")\n",
    "\n"
   ]
  },
  {
   "cell_type": "markdown",
   "metadata": {},
   "source": [
    "###   **Exception Hierarchy to catch specific exception:**\n",
    "\n",
    " BaseException\n",
    " +-- SystemExit\n",
    " +-- KeyboardInterrupt       : raised when interrupt key(ctrl+c, del) is pressed\n",
    " +-- GeneratorExit\n",
    " +-- Exception\n",
    "      +-- StopIteration      : if next() of an iterator points none\n",
    "      +-- StandardError      : if sys.exit()  is called\n",
    "      |    +-- BufferError   : if buffer is not performed\n",
    "      |    +-- ArithmeticError   : if any of child exception occured\n",
    "      |    |    +-- FloatingPointError  : \n",
    "      |    |    +-- OverflowError\n",
    "      |    |    +-- ZeroDivisionError  : if result of an operation is undefined i.e 2/0\n",
    "      |    +-- AssertionError\n",
    "      |    +-- AttributeError\n",
    "      |    +-- EnvironmentError\n",
    "      |    |    +-- IOError\n",
    "      |    |    +-- OSError\n",
    "      |    |         +-- WindowsError (Windows)\n",
    "      |    |         +-- VMSError (VMS)\n",
    "      |    +-- EOFError\n",
    "      |    +-- ImportError\n",
    "      |    +-- LookupError\n",
    "      |    |    +-- IndexError : if index of a sequence is out of range\n",
    "      |    |    +-- KeyError\n",
    "      |    +-- MemoryError\n",
    "      |    +-- NameError\n",
    "      |    |    +-- UnboundLocalError\n",
    "      |    +-- ReferenceError\n",
    "      |    +-- RuntimeError\n",
    "      |    |    +-- NotImplementedError\n",
    "      |    +-- SyntaxError\n",
    "      |    |    +-- IndentationError\n",
    "      |    |         +-- TabError\n",
    "      |    +-- SystemError\n",
    "      |    +-- TypeError\n",
    "      |    +-- ValueError\n",
    "      |         +-- UnicodeError\n",
    "      |              +-- UnicodeDecodeError\n",
    "      |              +-- UnicodeEncodeError\n",
    "      |              +-- UnicodeTranslateError\n",
    "      +-- Warning\n",
    "           +-- DeprecationWarning\n",
    "           +-- PendingDeprecationWarning\n",
    "           +-- RuntimeWarning\n",
    "           +-- SyntaxWarning\n",
    "           +-- UserWarning\n",
    "           +-- FutureWarning\n",
    "\t   +-- ImportWarning\n",
    "\t   +-- UnicodeWarning\n",
    "\t   +-- BytesWarning"
   ]
  },
  {
   "cell_type": "code",
   "execution_count": 7,
   "metadata": {},
   "outputs": [
    {
     "name": "stdout",
     "output_type": "stream",
     "text": [
      "Result: 1.666667\n",
      "Result is undefined\n"
     ]
    }
   ],
   "source": [
    "#  Try except with else\n",
    "\n",
    "def Division(a, b):\n",
    "    try:\n",
    "      result = a/b\n",
    "    except ZeroDivisionError:\n",
    "      print(\"Result is undefined\")\n",
    "    else:\n",
    "      print(\"Result: %f\" %result)\n",
    "\n",
    "\n",
    "Division(10, 6)\n",
    "Division(10, 0)\n",
    "\n"
   ]
  },
  {
   "cell_type": "code",
   "execution_count": 8,
   "metadata": {},
   "outputs": [
    {
     "name": "stdout",
     "output_type": "stream",
     "text": [
      "1.4285714285714286\n",
      " is the result of the division\n",
      "Undefined\n",
      " is the result of the division\n"
     ]
    }
   ],
   "source": [
    "# try except finally\n",
    "\"\"\"\n",
    "try:\n",
    "    # Some Code.... \n",
    "\n",
    "except:\n",
    "    # optional block\n",
    "    # Handling of exception (if required)\n",
    "\n",
    "else:\n",
    "    # execute if no exception\n",
    "\n",
    "finally:\n",
    "    # Some code .....(always executed)\n",
    "\"\"\"\n",
    "\n",
    "def Division(a, b):\n",
    "    try: \n",
    "      result = a/b\n",
    "      print(result)\n",
    "    except:\n",
    "      print(\"Undefined\")      \n",
    "    finally:\n",
    "      print(\" is the result of the division\")\n",
    "\n",
    "\n",
    "Division(10, 7)\n",
    "Division(4, 0)\n"
   ]
  },
  {
   "cell_type": "code",
   "execution_count": 24,
   "metadata": {},
   "outputs": [
    {
     "name": "stdout",
     "output_type": "stream",
     "text": [
      "13\n",
      " NameError occured!\n",
      "None\n"
     ]
    }
   ],
   "source": [
    "def func(*args):\n",
    "    try: \n",
    "        a = args[0]\n",
    "        if(a> 5):\n",
    "          b = args[1]\n",
    "        \n",
    "        r =  x(a, b)\n",
    "        return r\n",
    "        raise NameError(\"Argument is missing\")\n",
    "    except NameError:\n",
    "        print(\" NameError occured!\")\n",
    "        \n",
    "        # This will throw error message of particular line\n",
    "        # raise \n",
    "\n",
    "\n",
    "x = lambda a, b : a+b\n",
    "\n",
    "print(func(10, 3))\n",
    "print(func(1,7))\n",
    "\n",
    "\n"
   ]
  },
  {
   "cell_type": "code",
   "execution_count": 26,
   "metadata": {},
   "outputs": [
    {
     "name": "stdout",
     "output_type": "stream",
     "text": [
      "Number is 10\n"
     ]
    },
    {
     "ename": "TypeError",
     "evalue": " Only numbers are allowed ",
     "output_type": "error",
     "traceback": [
      "\u001b[1;31m---------------------------------------------------------------------------\u001b[0m",
      "\u001b[1;31mTypeError\u001b[0m                                 Traceback (most recent call last)",
      "\u001b[1;32m~\\AppData\\Local\\Temp/ipykernel_2880/2542651232.py\u001b[0m in \u001b[0;36m<module>\u001b[1;34m\u001b[0m\n\u001b[0;32m      8\u001b[0m \u001b[1;33m\u001b[0m\u001b[0m\n\u001b[0;32m      9\u001b[0m \u001b[0mfunc\u001b[0m\u001b[1;33m(\u001b[0m\u001b[1;36m10\u001b[0m\u001b[1;33m)\u001b[0m\u001b[1;33m\u001b[0m\u001b[1;33m\u001b[0m\u001b[0m\n\u001b[1;32m---> 10\u001b[1;33m \u001b[0mfunc\u001b[0m\u001b[1;33m(\u001b[0m\u001b[1;34m\"I love Machine Learning\"\u001b[0m\u001b[1;33m)\u001b[0m\u001b[1;33m\u001b[0m\u001b[1;33m\u001b[0m\u001b[0m\n\u001b[0m",
      "\u001b[1;32m~\\AppData\\Local\\Temp/ipykernel_2880/2542651232.py\u001b[0m in \u001b[0;36mfunc\u001b[1;34m(*arg)\u001b[0m\n\u001b[0;32m      2\u001b[0m  \u001b[0mx\u001b[0m \u001b[1;33m=\u001b[0m \u001b[0marg\u001b[0m\u001b[1;33m[\u001b[0m\u001b[1;36m0\u001b[0m\u001b[1;33m]\u001b[0m\u001b[1;33m\u001b[0m\u001b[1;33m\u001b[0m\u001b[0m\n\u001b[0;32m      3\u001b[0m  \u001b[1;32mif\u001b[0m \u001b[1;32mnot\u001b[0m \u001b[0mtype\u001b[0m\u001b[1;33m(\u001b[0m\u001b[0mx\u001b[0m\u001b[1;33m)\u001b[0m \u001b[1;32mis\u001b[0m \u001b[0mint\u001b[0m\u001b[1;33m:\u001b[0m\u001b[1;33m\u001b[0m\u001b[1;33m\u001b[0m\u001b[0m\n\u001b[1;32m----> 4\u001b[1;33m     \u001b[1;32mraise\u001b[0m \u001b[0mTypeError\u001b[0m\u001b[1;33m(\u001b[0m\u001b[1;34m\" Only numbers are allowed \"\u001b[0m\u001b[1;33m)\u001b[0m\u001b[1;33m\u001b[0m\u001b[1;33m\u001b[0m\u001b[0m\n\u001b[0m\u001b[0;32m      5\u001b[0m  \u001b[1;32melse\u001b[0m\u001b[1;33m:\u001b[0m\u001b[1;33m\u001b[0m\u001b[1;33m\u001b[0m\u001b[0m\n\u001b[0;32m      6\u001b[0m    \u001b[0mprint\u001b[0m\u001b[1;33m(\u001b[0m\u001b[1;34m\"Number is %d\"\u001b[0m \u001b[1;33m%\u001b[0m\u001b[0mx\u001b[0m\u001b[1;33m)\u001b[0m\u001b[1;33m\u001b[0m\u001b[1;33m\u001b[0m\u001b[0m\n",
      "\u001b[1;31mTypeError\u001b[0m:  Only numbers are allowed "
     ]
    }
   ],
   "source": [
    "\n",
    "def func(*arg):\n",
    " x = arg[0]\n",
    " if not type(x) is int:\n",
    "    raise TypeError(\" Only numbers are allowed \")\n",
    " else:\n",
    "   print(\"Number is %d\" %x)\n",
    "\n",
    "\n",
    "func(10)\n",
    "func(\"I love Machine Learning\")"
   ]
  },
  {
   "cell_type": "code",
   "execution_count": 28,
   "metadata": {},
   "outputs": [
    {
     "name": "stdout",
     "output_type": "stream",
     "text": [
      "Help on class Exception in module builtins:\n",
      "\n",
      "class Exception(BaseException)\n",
      " |  Common base class for all non-exit exceptions.\n",
      " |  \n",
      " |  Method resolution order:\n",
      " |      Exception\n",
      " |      BaseException\n",
      " |      object\n",
      " |  \n",
      " |  Built-in subclasses:\n",
      " |      ArithmeticError\n",
      " |      AssertionError\n",
      " |      AttributeError\n",
      " |      BufferError\n",
      " |      ... and 15 other subclasses\n",
      " |  \n",
      " |  Methods defined here:\n",
      " |  \n",
      " |  __init__(self, /, *args, **kwargs)\n",
      " |      Initialize self.  See help(type(self)) for accurate signature.\n",
      " |  \n",
      " |  ----------------------------------------------------------------------\n",
      " |  Static methods defined here:\n",
      " |  \n",
      " |  __new__(*args, **kwargs) from builtins.type\n",
      " |      Create and return a new object.  See help(type) for accurate signature.\n",
      " |  \n",
      " |  ----------------------------------------------------------------------\n",
      " |  Methods inherited from BaseException:\n",
      " |  \n",
      " |  __delattr__(self, name, /)\n",
      " |      Implement delattr(self, name).\n",
      " |  \n",
      " |  __getattribute__(self, name, /)\n",
      " |      Return getattr(self, name).\n",
      " |  \n",
      " |  __reduce__(...)\n",
      " |      Helper for pickle.\n",
      " |  \n",
      " |  __repr__(self, /)\n",
      " |      Return repr(self).\n",
      " |  \n",
      " |  __setattr__(self, name, value, /)\n",
      " |      Implement setattr(self, name, value).\n",
      " |  \n",
      " |  __setstate__(...)\n",
      " |  \n",
      " |  __str__(self, /)\n",
      " |      Return str(self).\n",
      " |  \n",
      " |  with_traceback(...)\n",
      " |      Exception.with_traceback(tb) --\n",
      " |      set self.__traceback__ to tb and return self.\n",
      " |  \n",
      " |  ----------------------------------------------------------------------\n",
      " |  Data descriptors inherited from BaseException:\n",
      " |  \n",
      " |  __cause__\n",
      " |      exception cause\n",
      " |  \n",
      " |  __context__\n",
      " |      exception context\n",
      " |  \n",
      " |  __dict__\n",
      " |  \n",
      " |  __suppress_context__\n",
      " |  \n",
      " |  __traceback__\n",
      " |  \n",
      " |  args\n",
      "\n"
     ]
    }
   ],
   "source": [
    "help(Exception)"
   ]
  },
  {
   "cell_type": "code",
   "execution_count": 27,
   "metadata": {},
   "outputs": [
    {
     "name": "stdout",
     "output_type": "stream",
     "text": [
      "This value is too small, try again!\n",
      "\n",
      "This value is too small, try again!\n",
      "\n",
      "This value is too large, try again!\n",
      "\n",
      "Congratulations! You guessed it correctly.\n"
     ]
    }
   ],
   "source": [
    "# define Python user-defined exceptions\n",
    "class Error(Exception):\n",
    "    pass\n",
    "\n",
    "\n",
    "class ValueTooSmallError(Error):\n",
    "    pass\n",
    "\n",
    "\n",
    "class ValueTooLargeError(Error):\n",
    "    pass\n",
    "\n",
    "\n",
    "number = 10\n",
    "\n",
    "while True:\n",
    "    try:\n",
    "        i_num = int(input(\"Enter a number: \"))\n",
    "        if i_num < number:\n",
    "            raise ValueTooSmallError\n",
    "        elif i_num > number:\n",
    "            raise ValueTooLargeError\n",
    "        break\n",
    "    except ValueTooSmallError:\n",
    "        print(\"This value is too small, try again!\")\n",
    "        print()\n",
    "    except ValueTooLargeError:\n",
    "        print(\"This value is too large, try again!\")\n",
    "        print()\n",
    "\n",
    "print(\"Congratulations! You guessed it correctly.\")"
   ]
  },
  {
   "cell_type": "code",
   "execution_count": 37,
   "metadata": {},
   "outputs": [
    {
     "name": "stdout",
     "output_type": "stream",
     "text": [
      "All birds can not fly example: Panguine\n",
      "Paguine can not fly\n",
      "All birds can not fly. But Sparrow can fly\n",
      "Sparrow can fly\n",
      "All animal is classified here\n",
      "All birds can not fly\n",
      "Pagasus is animal but also can fly\n",
      "True\n",
      "True\n",
      "False\n",
      "variable is private for this object\n"
     ]
    }
   ],
   "source": [
    "# Inheritance\n",
    "\n",
    "class Animal:\n",
    "    def Print(self):\n",
    "        print(\"All animal is classified here\")\n",
    "\n",
    "class Bird:\n",
    "    __private_data = 10\n",
    "    def Dis(self):\n",
    "        print(\"All birds can not fly\")\n",
    "\n",
    "class Panguine(Bird):\n",
    "    def Say(self):\n",
    "        print(\"Paguine can not fly\")\n",
    "    \n",
    "    def Dis(self):\n",
    "        print(\"All birds can not fly example: Panguine\")\n",
    "\n",
    "class Sparrow(Bird):\n",
    "    def Tell(self):\n",
    "        print(\"Sparrow can fly\")\n",
    "    def Dis(self):\n",
    "        print(\"All birds can not fly. But Sparrow can fly\")\n",
    "\n",
    "class Pagasus(Animal,Bird):\n",
    "    def SayAboutPagasus(self):\n",
    "        print(\"Pagasus is animal but also can fly\") \n",
    "\n",
    "\n",
    "panguine = Panguine()\n",
    "sparrow = Sparrow()\n",
    "pagasus = Pagasus()\n",
    "\n",
    "\n",
    "panguine.Dis()\n",
    "panguine.Say()\n",
    "\n",
    "\n",
    "sparrow.Dis()\n",
    "sparrow.Tell()\n",
    "\n",
    "pagasus.Print()\n",
    "pagasus.Dis()\n",
    "pagasus.SayAboutPagasus()\n",
    "\n",
    "print(isinstance(pagasus, Animal))\n",
    "print(isinstance(panguine, Bird))\n",
    "print(isinstance(sparrow, Animal))\n",
    "\n",
    "\n",
    "try: \n",
    "    print(pagasus.__private_data)\n",
    "except AttributeError:\n",
    "    print(\"variable is private for this object\")\n",
    "\n"
   ]
  },
  {
   "cell_type": "code",
   "execution_count": 66,
   "metadata": {},
   "outputs": [
    {
     "name": "stdout",
     "output_type": "stream",
     "text": [
      "__new__ magic method is called\n"
     ]
    },
    {
     "data": {
      "text/plain": [
       "['__bool__',\n",
       " '__class__',\n",
       " '__delattr__',\n",
       " '__dir__',\n",
       " '__doc__',\n",
       " '__eq__',\n",
       " '__format__',\n",
       " '__ge__',\n",
       " '__getattribute__',\n",
       " '__gt__',\n",
       " '__hash__',\n",
       " '__init__',\n",
       " '__init_subclass__',\n",
       " '__le__',\n",
       " '__lt__',\n",
       " '__ne__',\n",
       " '__new__',\n",
       " '__reduce__',\n",
       " '__reduce_ex__',\n",
       " '__repr__',\n",
       " '__setattr__',\n",
       " '__sizeof__',\n",
       " '__str__',\n",
       " '__subclasshook__']"
      ]
     },
     "execution_count": 66,
     "metadata": {},
     "output_type": "execute_result"
    }
   ],
   "source": [
    "class Employee:\n",
    "    def __new__(cls):\n",
    "        print (\"__new__ magic method is called\")\n",
    "        inst = object.__new__(cls)\n",
    "                #return inst\n",
    "    def __init__(self):\n",
    "        print (\"__init__ magic method is called\")\n",
    "        self.name='Satya'\n",
    "\n",
    "\n",
    "emp = Employee()\n",
    "dir(emp)"
   ]
  },
  {
   "cell_type": "code",
   "execution_count": 47,
   "metadata": {},
   "outputs": [
    {
     "name": "stdout",
     "output_type": "stream",
     "text": [
      "Age: 10 is valid\n",
      "age should be in (0,110)\n"
     ]
    },
    {
     "ename": "AssertionError",
     "evalue": "age should be in (0,110)",
     "output_type": "error",
     "traceback": [
      "\u001b[1;31m---------------------------------------------------------------------------\u001b[0m",
      "\u001b[1;31mAssertionError\u001b[0m                            Traceback (most recent call last)",
      "\u001b[1;32m~\\AppData\\Local\\Temp/ipykernel_2880/2145777890.py\u001b[0m in \u001b[0;36m<module>\u001b[1;34m\u001b[0m\n\u001b[0;32m     18\u001b[0m     \u001b[0mprint\u001b[0m\u001b[1;33m(\u001b[0m\u001b[0merror\u001b[0m\u001b[1;33m)\u001b[0m\u001b[1;33m\u001b[0m\u001b[1;33m\u001b[0m\u001b[0m\n\u001b[0;32m     19\u001b[0m \u001b[1;33m\u001b[0m\u001b[0m\n\u001b[1;32m---> 20\u001b[1;33m \u001b[0mcheckValidAge\u001b[0m\u001b[1;33m(\u001b[0m\u001b[1;36m200\u001b[0m\u001b[1;33m)\u001b[0m\u001b[1;33m\u001b[0m\u001b[1;33m\u001b[0m\u001b[0m\n\u001b[0m\u001b[0;32m     21\u001b[0m \u001b[1;33m\u001b[0m\u001b[0m\n\u001b[0;32m     22\u001b[0m \u001b[1;33m\u001b[0m\u001b[0m\n",
      "\u001b[1;32m~\\AppData\\Local\\Temp/ipykernel_2880/2145777890.py\u001b[0m in \u001b[0;36mcheckValidAge\u001b[1;34m(age)\u001b[0m\n\u001b[0;32m      2\u001b[0m \u001b[1;33m\u001b[0m\u001b[0m\n\u001b[0;32m      3\u001b[0m \u001b[1;32mdef\u001b[0m \u001b[0mcheckValidAge\u001b[0m\u001b[1;33m(\u001b[0m\u001b[0mage\u001b[0m\u001b[1;33m)\u001b[0m\u001b[1;33m:\u001b[0m\u001b[1;33m\u001b[0m\u001b[1;33m\u001b[0m\u001b[0m\n\u001b[1;32m----> 4\u001b[1;33m    \u001b[1;32massert\u001b[0m \u001b[0mage\u001b[0m \u001b[1;33m>\u001b[0m \u001b[1;36m0\u001b[0m \u001b[1;32mand\u001b[0m \u001b[0mage\u001b[0m\u001b[1;33m<\u001b[0m \u001b[1;36m110\u001b[0m \u001b[1;33m,\u001b[0m \u001b[1;34m\"age should be in (0,110)\"\u001b[0m\u001b[1;33m\u001b[0m\u001b[1;33m\u001b[0m\u001b[0m\n\u001b[0m\u001b[0;32m      5\u001b[0m    \u001b[0mprint\u001b[0m\u001b[1;33m(\u001b[0m\u001b[1;34m\"Age: %d is valid\"\u001b[0m \u001b[1;33m%\u001b[0m\u001b[0mage\u001b[0m\u001b[1;33m)\u001b[0m\u001b[1;33m\u001b[0m\u001b[1;33m\u001b[0m\u001b[0m\n\u001b[0;32m      6\u001b[0m \u001b[1;33m\u001b[0m\u001b[0m\n",
      "\u001b[1;31mAssertionError\u001b[0m: age should be in (0,110)"
     ]
    }
   ],
   "source": [
    "# Assert\n",
    "\n",
    "def checkValidAge(age):\n",
    "   assert age > 0 and age< 110 , \"age should be in (0,110)\"\n",
    "   print(\"Age: %d is valid\" %age)\n",
    "\n",
    "\n",
    "def checkAge(age):\n",
    "      assert age > 0 and age< 110 , \"age should be in (0,110)\"\n",
    "      print(\"Age: %d is valid\" %age)\n",
    "\n",
    "\n",
    "checkValidAge(10)\n",
    "\n",
    "try: \n",
    "    checkAge(500)\n",
    "except AssertionError as error:\n",
    "    print(error)    \n",
    "\n",
    "checkValidAge(200)\n",
    "\n",
    "\n"
   ]
  },
  {
   "cell_type": "code",
   "execution_count": 1,
   "metadata": {},
   "outputs": [
    {
     "name": "stdout",
     "output_type": "stream",
     "text": [
      "Hello\n",
      "Hello\n"
     ]
    }
   ],
   "source": [
    "#  Decorators & its implementations\n",
    "def first(msg):\n",
    "    print(msg)\n",
    "\n",
    "\n",
    "first(\"Hello\")\n",
    "\n",
    "second = first\n",
    "second(\"Hello\")"
   ]
  },
  {
   "cell_type": "code",
   "execution_count": 65,
   "metadata": {},
   "outputs": [
    {
     "name": "stdout",
     "output_type": "stream",
     "text": [
      "3\n",
      "20\n"
     ]
    }
   ],
   "source": [
    "def add(a, b):\n",
    "    return a+b\n",
    "\n",
    "def sub(a,b):\n",
    "    return a-b\n",
    "\n",
    "def mul(a,b):\n",
    "    return a*b\n",
    "\n",
    "def div(a,b):\n",
    "    try:\n",
    "        r = a/b\n",
    "        return r\n",
    "    except:\n",
    "        print(\"Undefined\")\n",
    "\n",
    "def operate(func, a, b):\n",
    "    fun = func(a,b)\n",
    "    return fun\n",
    "\n",
    "\n",
    "print(operate(add,1,2))\n",
    "print(operate(mul, 4, 5))\n"
   ]
  },
  {
   "cell_type": "code",
   "execution_count": 59,
   "metadata": {},
   "outputs": [
    {
     "name": "stdout",
     "output_type": "stream",
     "text": [
      "Generator:\n",
      "1\n",
      "8\n",
      "27\n",
      "Iterator:\n",
      "31\n",
      "42\n",
      "31\n"
     ]
    }
   ],
   "source": [
    "# Iterator & Generator\n",
    "\n",
    "\n",
    "def cube(n):\n",
    "    for i in range(1, n+1):\n",
    "        yield i*i*i\n",
    "  \n",
    "\n",
    "a = cube(3)\n",
    "print(\"Generator:\")  \n",
    "print(next(a))\n",
    "print(next(a))\n",
    "print(next(a))\n",
    "\n",
    "\n",
    "lst = [31,42,31,24,5]\n",
    "\n",
    "ptr = iter(lst)\n",
    "\n",
    "print(\"Iterator:\")  \n",
    "print(next(ptr))\n",
    "print(next(ptr))\n",
    "print(next(ptr))"
   ]
  },
  {
   "cell_type": "code",
   "execution_count": 53,
   "metadata": {},
   "outputs": [
    {
     "name": "stdout",
     "output_type": "stream",
     "text": [
      "True\n",
      "True\n",
      "True\n",
      "False\n",
      "True\n",
      "True\n",
      "True\n",
      "False\n",
      "True\n",
      "True\n",
      "False\n"
     ]
    }
   ],
   "source": [
    "# Boolean Evaluation\n",
    "\n",
    "x = 3 > 2\n",
    "print(x)\n",
    "\n",
    "x = 3 >= 2\n",
    "print(x)\n",
    "\n",
    "x = 3 > 2 and 1< 2\n",
    "print(x)\n",
    "\n",
    "x = 3 > 2 and 2< 1\n",
    "print(x)\n",
    "\n",
    "x = 100\n",
    "print(bool(x))\n",
    "\n",
    "x = \"Hello\"\n",
    "print(bool(x))\n",
    "\n",
    "x = (1, 2, 3)\n",
    "\n",
    "print(bool(x))\n",
    "\n",
    "x = []\n",
    "print(bool(x))\n",
    "\n",
    "x = [1,2, 3]\n",
    "print(bool(x))\n",
    "\n",
    "x = 1<2<3<4<5<6 and 10>9>8>7>6\n",
    "print(x)\n",
    "\n",
    "x = 1<2<3<4<5<6 and 10>19>8>7>6\n",
    "print(x)\n"
   ]
  },
  {
   "cell_type": "code",
   "execution_count": 57,
   "metadata": {},
   "outputs": [
    {
     "name": "stdout",
     "output_type": "stream",
     "text": [
      "The original elements before deep copying\n",
      "1 2 [3, 5] 4 \n",
      "The new list of elements after deep copying \n",
      "1 2 [7, 5] 4 \n",
      "The original elements after deep copying\n",
      "1 2 [3, 5] 4 "
     ]
    }
   ],
   "source": [
    "# Shallow copy & deep copy\n",
    "\n",
    "\n",
    "import copy\n",
    "\n",
    "li1 = [1, 2, [3,5], 4]\n",
    "\n",
    "li2 = copy.deepcopy(li1)\n",
    "\n",
    "print (\"The original elements before deep copying\")\n",
    "for i in range(0,len(li1)):\n",
    "\tprint (li1[i],end=\" \")\n",
    "\n",
    "print(\"\\r\")\n",
    "\n",
    "li2[2][0] = 7\n",
    "\n",
    "print (\"The new list of elements after deep copying \")\n",
    "for i in range(0,len( li1)):\n",
    "\tprint (li2[i],end=\" \")\n",
    "\n",
    "print(\"\\r\")\n",
    "\n",
    "\n",
    "print (\"The original elements after deep copying\")\n",
    "for i in range(0,len( li1)):\n",
    "\tprint (li1[i],end=\" \")\n"
   ]
  }
 ],
 "metadata": {
  "interpreter": {
   "hash": "dc07d24e2f18896857f0b2a651fe84ba40ce7b297e58d8804a308c8039f752a6"
  },
  "kernelspec": {
   "display_name": "Python 3.9.7 ('base')",
   "language": "python",
   "name": "python3"
  },
  "language_info": {
   "codemirror_mode": {
    "name": "ipython",
    "version": 3
   },
   "file_extension": ".py",
   "mimetype": "text/x-python",
   "name": "python",
   "nbconvert_exporter": "python",
   "pygments_lexer": "ipython3",
   "version": "3.9.7"
  },
  "orig_nbformat": 4
 },
 "nbformat": 4,
 "nbformat_minor": 2
}
