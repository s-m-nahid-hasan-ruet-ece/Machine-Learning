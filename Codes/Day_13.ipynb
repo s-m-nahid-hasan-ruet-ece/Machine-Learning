{
 "cells": [
  {
   "cell_type": "markdown",
   "metadata": {},
   "source": [
    "4. Tutorial 26- Linear Regression Indepth Maths Intuition- Data Science\n",
    "5. Tutorial 27- Ridge and Lasso Regression Indepth Intuition- Data Science\n",
    "6. Tutorial 28- Ridge and Lasso Regression using Python and Sklearn\n",
    "7. Multiple Linear Regression using python and sklearn\n",
    "8. Tutorial 28-MultiCollinearity In Linear Regression- Part 2"
   ]
  }
 ],
 "metadata": {
  "interpreter": {
   "hash": "dc07d24e2f18896857f0b2a651fe84ba40ce7b297e58d8804a308c8039f752a6"
  },
  "kernelspec": {
   "display_name": "Python 3.9.7 ('base')",
   "language": "python",
   "name": "python3"
  },
  "language_info": {
   "name": "python",
   "version": "3.9.7"
  },
  "orig_nbformat": 4
 },
 "nbformat": 4,
 "nbformat_minor": 2
}
