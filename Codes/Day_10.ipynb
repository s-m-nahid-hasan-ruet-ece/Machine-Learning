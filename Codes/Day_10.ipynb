{
 "cells": [
  {
   "cell_type": "markdown",
   "metadata": {},
   "source": [
    "Hypothesis\n",
    "\n",
    "https://machinelearningmastery.com/what-is-a-hypothesis-in-machine-learning/\n",
    "\n",
    "https://www.geeksforgeeks.org/ml-understanding-hypothesis/\n",
    "\n",
    "https://www.geeksforgeeks.org/understanding-hypothesis-testing/?ref=rp\n",
    "\n",
    "https://www.javatpoint.com/hypothesis-in-machine-learning"
   ]
  }
 ],
 "metadata": {
  "language_info": {
   "name": "python"
  },
  "orig_nbformat": 4
 },
 "nbformat": 4,
 "nbformat_minor": 2
}
