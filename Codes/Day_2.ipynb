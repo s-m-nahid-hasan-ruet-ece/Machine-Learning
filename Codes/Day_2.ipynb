{
 "cells": [
  {
   "cell_type": "code",
   "execution_count": 9,
   "metadata": {},
   "outputs": [
    {
     "name": "stdout",
     "output_type": "stream",
     "text": [
      "streetAddress          101\n",
      "city             San Diego\n",
      "state                   CA\n",
      "dtype: object\n"
     ]
    }
   ],
   "source": [
    "import json\n",
    "import pandas as pd\n",
    "\n",
    "\n",
    "data = json.load(open('sample2.json'))\n",
    "\n",
    "df = pd.Series(data[\"address\"])\n",
    "\n",
    "print(df)"
   ]
  },
  {
   "cell_type": "code",
   "execution_count": 10,
   "metadata": {},
   "outputs": [
    {
     "name": "stdout",
     "output_type": "stream",
     "text": [
      "   type      number\n",
      "0  home  7349282382\n"
     ]
    }
   ],
   "source": [
    "import json\n",
    "import pandas as pd\n",
    "\n",
    "\n",
    "data = json.load(open('sample2.json'))\n",
    "\n",
    "df = pd.DataFrame(data[\"phoneNumbers\"])\n",
    "\n",
    "print(df)"
   ]
  },
  {
   "cell_type": "code",
   "execution_count": 11,
   "metadata": {},
   "outputs": [
    {
     "name": "stdout",
     "output_type": "stream",
     "text": [
      "    Unnamed: 0  Unnamed: 1                                         Unnamed: 2  \\\n",
      "0          NaN         NaN                                                NaN   \n",
      "1          NaN         NaN                                                NaN   \n",
      "2          NaN         NaN                                                NaN   \n",
      "3          NaN         NaN                                    Downloaded From   \n",
      "4          NaN         NaN                              Sample Data for Excel   \n",
      "5          NaN         NaN                                                NaN   \n",
      "6          NaN         NaN                                  Related tutorials   \n",
      "7          NaN         NaN                                 Named Excel Tables   \n",
      "8          NaN         NaN                                    Data Entry Tips   \n",
      "9          NaN         NaN                            More Excel Sample Files   \n",
      "10         NaN         NaN                                                NaN   \n",
      "11         NaN         NaN                                              Notes   \n",
      "12         NaN         NaN  Olympic Hockey Teams 2018 - Canada and USA - d...   \n",
      "13         NaN         NaN                This data was used in my blog post:   \n",
      "\n",
      "                     Unnamed: 3  \n",
      "0                           NaN  \n",
      "1                           NaN  \n",
      "2                           NaN  \n",
      "3                           NaN  \n",
      "4                           NaN  \n",
      "5                           NaN  \n",
      "6                           NaN  \n",
      "7                           NaN  \n",
      "8                           NaN  \n",
      "9                           NaN  \n",
      "10                          NaN  \n",
      "11                          NaN  \n",
      "12                          NaN  \n",
      "13  Hockey Player Data Analysis  \n"
     ]
    }
   ],
   "source": [
    "import json\n",
    "import pandas as pd\n",
    "\n",
    "\n",
    "data = pd.read_excel('hockey.xlsx')\n",
    "\n",
    "print(data)"
   ]
  }
 ],
 "metadata": {
  "interpreter": {
   "hash": "dc07d24e2f18896857f0b2a651fe84ba40ce7b297e58d8804a308c8039f752a6"
  },
  "kernelspec": {
   "display_name": "Python 3.9.7 ('base')",
   "language": "python",
   "name": "python3"
  },
  "language_info": {
   "codemirror_mode": {
    "name": "ipython",
    "version": 3
   },
   "file_extension": ".py",
   "mimetype": "text/x-python",
   "name": "python",
   "nbconvert_exporter": "python",
   "pygments_lexer": "ipython3",
   "version": "3.9.7"
  },
  "orig_nbformat": 4
 },
 "nbformat": 4,
 "nbformat_minor": 2
}
