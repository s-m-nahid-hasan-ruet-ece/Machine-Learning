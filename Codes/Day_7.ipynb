{
 "cells": [
  {
   "cell_type": "markdown",
   "metadata": {},
   "source": [
    "###  **Today's Topic:**\n",
    "\n",
    "- Vulture Library- How To Find Unused And Dead Code In Python Projects\n",
    "- Python Zip Function- Easy Parallel Iteration for Multiple Iterators\n",
    "- Pdf Password Protection Using Python\n",
    "- PIP Freeze- Creating Packages(Requirements.txt) For The Application\n",
    "- Logging Implementation In Python\n",
    "- Secure Hash Algorithms Using Python- SHA256,SHA384,SHA224,SHA512,SHA1- Hashing In BlockChain\n",
    "   - [Link1](https://www.youtube.com/watch?v=IsDheIWguHs)\n",
    "\n",
    "- Numba Library- Let's Make Python Faster\n",
    "\n"
   ]
  },
  {
   "cell_type": "markdown",
   "metadata": {},
   "source": [
    "###  **Vulture Library:  How To Find Unused And Dead Code In Python Projects**"
   ]
  },
  {
   "cell_type": "code",
   "execution_count": 3,
   "metadata": {},
   "outputs": [
    {
     "name": "stdout",
     "output_type": "stream",
     "text": [
      "2\n"
     ]
    }
   ],
   "source": [
    "import pandas as pd\n",
    "\n",
    "print(2)"
   ]
  },
  {
   "cell_type": "code",
   "execution_count": 2,
   "metadata": {},
   "outputs": [
    {
     "name": "stdout",
     "output_type": "stream",
     "text": [
      "Requirement already satisfied: vulture in c:\\users\\hp\\anaconda3\\lib\\site-packages (2.3)\n",
      "Requirement already satisfied: toml in c:\\users\\hp\\anaconda3\\lib\\site-packages (from vulture) (0.10.2)\n",
      "Note: you may need to restart the kernel to use updated packages.\n"
     ]
    }
   ],
   "source": [
    "%pip install vulture\n"
   ]
  },
  {
   "cell_type": "markdown",
   "metadata": {},
   "source": [
    "###  **Python Zip Function- Easy Parallel Iteration for Multiple Iterators**\n",
    "Python’s zip() function creates an iterator that will aggregate elements from two or more iterables. It can be used in the resulting iterator to quickly and consistently solve common programming problems, like creating dictionaries."
   ]
  },
  {
   "cell_type": "code",
   "execution_count": 8,
   "metadata": {},
   "outputs": [
    {
     "name": "stdout",
     "output_type": "stream",
     "text": [
      "available_cars [('Toyota', 'Small', 'Red'), ('Honda', 'Standard', 'Black')]\n",
      "needed_cars [('Toyota', 'Small', 'Red'), ('Honda', 'Standard', 'Black'), ('Ford', 'Large', None), ('Lamborgini', None, None)]\n",
      "needed_cars_customizable_colors [('Toyota', 'Small', 'Red'), ('Honda', 'Standard', 'Black'), ('Ford', 'Large', 'Customizable'), ('Lamborgini', 'Customizable', 'Customizable')]\n"
     ]
    }
   ],
   "source": [
    "from itertools import zip_longest\n",
    "\n",
    "car_brands = ['Toyota', 'Honda', 'Ford', 'Lamborgini']\n",
    "car_sizes = ['Small', 'Standard', 'Large']\n",
    "car_colors = ['Red', 'Black']\n",
    "\n",
    "# Using zip() it will create tuple with least size of its parameter lists\n",
    "available_cars = list(zip(car_brands,car_sizes,car_colors))\n",
    "print(\"available_cars\",available_cars)\n",
    "\n",
    "\n",
    "# Using zip_longest() it will create tuple with maximum size with customizable empty element\n",
    "needed_cars = list(zip_longest(car_brands,car_sizes,car_colors))\n",
    "print(\"needed_cars\",needed_cars)\n",
    "\n",
    "needed_cars_customizable_colors = list(zip_longest(car_brands,car_sizes,car_colors, fillvalue=\"Customizable\"))\n",
    "print(\"needed_cars_customizable_colors\",needed_cars_customizable_colors)\n"
   ]
  },
  {
   "cell_type": "code",
   "execution_count": 9,
   "metadata": {},
   "outputs": [
    {
     "name": "stdout",
     "output_type": "stream",
     "text": [
      "You bought 5 apples for $100\n",
      "You bought 7 oranges for $70\n",
      "You bought 3 bananas for $15\n",
      "You bought 4 melons for $60\n"
     ]
    }
   ],
   "source": [
    "fruits = [\"apples\",\"oranges\",\"bananas\",\"melons\"]\n",
    "prices = [20,10,5,15]\n",
    "quantities = [5,7,3,4]\n",
    "\n",
    "for fruit, price, quantity in zip(fruits,prices,quantities):\n",
    "  print(f\"You bought {quantity} {fruit} for ${price*quantity}\")"
   ]
  },
  {
   "cell_type": "markdown",
   "metadata": {},
   "source": [
    "###  **Pdf Password Protection Using Python**"
   ]
  },
  {
   "cell_type": "code",
   "execution_count": 10,
   "metadata": {},
   "outputs": [
    {
     "name": "stdout",
     "output_type": "stream",
     "text": [
      "Collecting PyPDF2\n",
      "  Downloading PyPDF2-1.27.12-py3-none-any.whl (80 kB)\n",
      "Note: you may need to restart the kernel to use updated packages.\n",
      "Installing collected packages: PyPDF2\n",
      "Successfully installed PyPDF2-1.27.12\n"
     ]
    }
   ],
   "source": [
    "%pip install PyPDF2"
   ]
  },
  {
   "cell_type": "code",
   "execution_count": 5,
   "metadata": {},
   "outputs": [
    {
     "name": "stdout",
     "output_type": "stream",
     "text": [
      "<bound method PdfFileReader.getDocumentInfo of <PyPDF2._reader.PdfFileReader object at 0x0000012174E8A520>>\n"
     ]
    }
   ],
   "source": [
    "from PyPDF2 import PdfFileWriter, PdfFileReader\n",
    "\n",
    "outputFile = PdfFileWriter()\n",
    "\n",
    "pdffile = PdfFileReader(\"../Datasets/Lab_1.pdf\")\n",
    "number_of_pages = pdffile.numPages\n",
    "\n",
    "for i in range(number_of_pages):\n",
    "    page = pdffile.getPage(i)\n",
    "\n",
    "    outputFile.addPage(page)\n",
    "\n",
    "password = \"!@#$\"\n",
    "\n",
    "outputFile.encrypt(password)\n",
    "\n",
    "with open(\"../Datasets/encrypted.pdf\", \"wb\") as f:\n",
    "    outputFile.write(f)\n",
    "\n"
   ]
  },
  {
   "cell_type": "markdown",
   "metadata": {},
   "source": [
    "###  **PIP Freeze- Creating Packages(Requirements.txt) For The Application**"
   ]
  },
  {
   "cell_type": "code",
   "execution_count": 7,
   "metadata": {},
   "outputs": [
    {
     "name": "stdout",
     "output_type": "stream",
     "text": [
      "Note: you may need to restart the kernel to use updated packages.\n"
     ]
    }
   ],
   "source": [
    "%pip freeze >../Datasets/requirements.txt"
   ]
  },
  {
   "cell_type": "markdown",
   "metadata": {},
   "source": [
    "###  **Logging Implementation In Python**\n",
    "\n",
    "Logging is a means of tracking events that happen when some software runs. Logging is important for software developing, debugging, and running. \n",
    "Python has a built-in module logging which allows writing status messages to a file or any other output streams. The file can contain the information on which part of the code is executed and what problems have been arisen.  \n",
    "\n",
    "### **Levels of Log Message** \n",
    "There are five built-in levels of the log message.  \n",
    "\n",
    "**Debug:** These are used to give Detailed information, typically of interest only when diagnosing problems.\n",
    "**Info:** These are used to confirm that things are working as expected\n",
    "**Warning:** These are used an indication that something unexpected happened, or is indicative of some problem in the near future\n",
    "**Error:** This tells that due to a more serious problem, the software has not been able to perform some function\n",
    "**Critical:** This tells serious error, indicating that the program itself may be unable to continue running\n",
    "\n",
    "\n",
    "###  **Log Level**\n",
    "![Log Level](../Datasets/loglevels.png)\n",
    "\n",
    "\n",
    "There are several logger objects offered by the module itself.  \n",
    "\n",
    "**Logger.info(msg):** This will log a message with level INFO on this logger.\n",
    "\n",
    "**Logger.warning(msg):** This will log a message with a level WARNING on this logger.\n",
    "\n",
    "**Logger.error(msg):** This will log a message with level ERROR on this logger.\n",
    "\n",
    "**Logger.critical(msg):** This will log a message with level CRITICAL on this logger.\n",
    "\n",
    "**Logger.log(lvl,msg):** This will Logs a message with integer level lvl on this logger.\n",
    "\n",
    "**Logger.exception(msg):** This will log a message with level ERROR on this logger.\n",
    "\n",
    "**Logger.setLevel(lvl):** This function sets the threshold of this logger to lvl. This means that all the messages below this level will be ignored.\n",
    "\n",
    "**Logger.addFilter(filt):** This adds a specific filter filt into this logger.\n",
    "\n",
    "**Logger.removeFilter(filt):** This removes a specific filter filt into this logger.\n",
    "\n",
    "**Logger.filter(record):** This method applies the logger’s filter to the record provided and returns True if the record is to be processed. Else, it will return False.\n",
    "\n",
    "**Logger.addHandler(hdlr):** This adds a specific handler hdlr to this logger.\n",
    "\n",
    "**Logger.removeHandler(hdlr):** This removes a specific handler hdlr into this logger.\n",
    "\n",
    "**Logger.hasHandlers():** This checks if the logger has any handler configured or not. \n"
   ]
  },
  {
   "cell_type": "code",
   "execution_count": 8,
   "metadata": {},
   "outputs": [],
   "source": [
    "import logging \n",
    "\n",
    "logging.basicConfig(filename=\"../Datasets/logfileofDay7.log\",format='%(asctime)s %(message)s',filemode='w')\n",
    "\n",
    "logger = logging.getLogger()\n",
    "logger.setLevel(logging.DEBUG)\n",
    "\n",
    "logger.debug(\"Harmless debug message\")\n",
    "logger.info(\"Just an information\")\n",
    "logger.warning(\"Its a warning\")\n",
    "logger.error(\"Divided by zero\")"
   ]
  },
  {
   "cell_type": "markdown",
   "metadata": {},
   "source": [
    "###  **Secure Hash Algorithms Using Python- SHA256,SHA384,SHA224,SHA512,SHA1- Hashing In BlockChain**\n",
    "\n",
    "#### **SHA, ( Secure Hash Algorithms )- Base Of BlockChain**\n",
    "**SHA256:** This hash function belong to hash class SHA-2, the internal block size of it is 32 bits.\n",
    "\n",
    "**SHA384:** This hash function belong to hash class SHA-2, the internal block size of it is 32 bits. This is one of the truncated version.\n",
    "\n",
    "**SHA224:** This hash function belong to hash class SHA-2, the internal block size of it is 32 bits. This is one of the truncated version.\n",
    "\n",
    "**SHA512:** This hash function belong to hash class SHA-2, the internal block size of it is 64 bits.\n",
    "\n",
    "**SHA1:** The 160 bit hash function that resembles MD5 hash in working and was discontinued to be used seeing its security vulnerabilities."
   ]
  },
  {
   "cell_type": "code",
   "execution_count": 7,
   "metadata": {},
   "outputs": [
    {
     "name": "stdout",
     "output_type": "stream",
     "text": [
      "<sha256 _hashlib.HASH object @ 0x000002ED324792F0>\n",
      "hased_string in SHA256:  7e7eb1d0b9472461ae6b448e274285004cbb111c898cbd97d4a94480fe489933\n",
      "hased_string in SHA384:  9d916cf833e280fe58e84c99a8b9bdca5a14650da2755dfd7b7d3b96b558351c970b863539e59d0815101e336596fc45\n",
      "hased_string in SHA224:  f802886e4b6b6531a4501a1ec6fe9c6dc0092fbe9d1bb6754b955900\n",
      "hased_string in SHA512:  733e407c42b0af9ff5b624a6c3aad71a7a849f1d79ea61253b3730bbf44210d8e9b837a812751627083c45100a64128b6d7814dd81703d4ee4b2488e40696672\n",
      "hased_string in SHA1:  9e4497592de42a366e38896f9c480e6a7bbb59c7\n"
     ]
    }
   ],
   "source": [
    "import hashlib\n",
    "\n",
    "string = \"Block Chain\"\n",
    "\n",
    "# SHA256\n",
    "hashed_string = hashlib.sha256(string.encode())\n",
    "print(hashed_string)\n",
    "\n",
    "# conveting to hexadecimal to show the hashed string\n",
    "print(\"hased_string in SHA256: \",hashed_string.hexdigest())\n",
    "\n",
    "# SHA384\n",
    "hashed_string = hashlib.sha384(string.encode())\n",
    "print(\"hased_string in SHA384: \",hashed_string.hexdigest())\n",
    "\n",
    "# SHA224\n",
    "hashed_string = hashlib.sha224(string.encode())\n",
    "print(\"hased_string in SHA224: \",hashed_string.hexdigest())\n",
    "\n",
    "# SHA512\n",
    "hashed_string = hashlib.sha512(string.encode())\n",
    "print(\"hased_string in SHA512: \",hashed_string.hexdigest())\n",
    "\n",
    "\n",
    "# SHA1\n",
    "hashed_string = hashlib.sha1(string.encode())\n",
    "print(\"hased_string in SHA1: \",hashed_string.hexdigest())\n",
    "\n",
    "\n",
    "\n",
    "\n"
   ]
  },
  {
   "cell_type": "markdown",
   "metadata": {},
   "source": [
    "###  **Numba Library- Let's Make Python Faster**\n",
    "\n",
    "Numba is a just-in-time compiler for Python that works best on code that uses NumPy arrays and functions, and loops. The most common way to use Numba is through its collection of decorators that can be applied to your functions to instruct Numba to compile them. When a call is made to a Numba decorated function it is compiled to machine code “just-in-time” for execution and all or part of your code can subsequently run at native machine code speed!"
   ]
  },
  {
   "cell_type": "code",
   "execution_count": 15,
   "metadata": {},
   "outputs": [
    {
     "name": "stdout",
     "output_type": "stream",
     "text": [
      "Ended compilation first time in 0.003996849060058594\n",
      "Ended compilation second time in 0.0029985904693603516\n",
      "Ended compilation third time in 0.0019986629486083984\n"
     ]
    }
   ],
   "source": [
    "import numpy as np\n",
    "import time\n",
    "\n",
    "x = np.arange(10000).reshape(100,100)\n",
    "\n",
    "def func(arg):\n",
    "    trace = 0.0\n",
    "    for i in range(arg.shape[0]):\n",
    "        trace += np.tanh(arg[i,i])\n",
    "    return arg+ trace\n",
    "\n",
    "begin_time = time.time()\n",
    "func(x)\n",
    "end_time = time.time()\n",
    "print(\"Ended compilation first time in %s\" %(end_time-begin_time))\n",
    "\n",
    "\n",
    "begin_time = time.time()\n",
    "func(x)\n",
    "end_time = time.time()\n",
    "print(\"Ended compilation second time in %s\" %(end_time-begin_time))\n",
    "\n",
    "begin_time = time.time()\n",
    "func(x)\n",
    "end_time = time.time()\n",
    "print(\"Ended compilation third time in %s\" %(end_time-begin_time))"
   ]
  },
  {
   "cell_type": "code",
   "execution_count": 16,
   "metadata": {},
   "outputs": [
    {
     "name": "stdout",
     "output_type": "stream",
     "text": [
      "Ended compilation first time in 1.422217607498169\n",
      "Ended compilation second time in 0.0\n"
     ]
    }
   ],
   "source": [
    "from numba import jit\n",
    "import numpy as np\n",
    "import time\n",
    "\n",
    "x = np.arange(10000).reshape(100,100)\n",
    "\n",
    "@jit(nopython = True)\n",
    "def func(arg):\n",
    "    trace = 0.0\n",
    "    for i in range(arg.shape[0]):\n",
    "        trace += np.tanh(arg[i,i])\n",
    "    return arg+ trace\n",
    "\n",
    "begin_time = time.time()\n",
    "func(x)\n",
    "end_time = time.time()\n",
    "print(\"Ended compilation first time in %s\" %(end_time-begin_time))\n",
    "\n",
    "\n",
    "begin_time = time.time()\n",
    "func(x)\n",
    "end_time = time.time()\n",
    "print(\"Ended compilation second time in %s\" %(end_time-begin_time))"
   ]
  }
 ],
 "metadata": {
  "interpreter": {
   "hash": "dc07d24e2f18896857f0b2a651fe84ba40ce7b297e58d8804a308c8039f752a6"
  },
  "kernelspec": {
   "display_name": "Python 3.9.7 ('base')",
   "language": "python",
   "name": "python3"
  },
  "language_info": {
   "codemirror_mode": {
    "name": "ipython",
    "version": 3
   },
   "file_extension": ".py",
   "mimetype": "text/x-python",
   "name": "python",
   "nbconvert_exporter": "python",
   "pygments_lexer": "ipython3",
   "version": "3.9.7"
  },
  "orig_nbformat": 4
 },
 "nbformat": 4,
 "nbformat_minor": 2
}
