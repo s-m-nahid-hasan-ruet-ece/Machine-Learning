{
 "cells": [
  {
   "cell_type": "code",
   "execution_count": null,
   "metadata": {},
   "outputs": [],
   "source": []
  },
  {
   "cell_type": "markdown",
   "metadata": {},
   "source": [
    "###  **Today's Topic:**\n",
    "\n",
    "- Vulture Library- How To Find Unused And Dead Code In Python Projects\n",
    "- Python Zip Function- Easy Parallel Iteration for Multiple Iterators\n",
    "- Pdf Password Protection Using Python\n",
    "- PIP Freeze- Creating Packages(Requirements.txt) For The Application\n",
    "- Logging Implementation In Python\n",
    "- Secure Hash Algorithms Using Python- SHA256,SHA384,SHA224,SHA512,SHA1- Hashing In BlockChain\n",
    "- Numba Library- Let's Make Python Faster\n"
   ]
  }
 ],
 "metadata": {
  "language_info": {
   "name": "python"
  },
  "orig_nbformat": 4
 },
 "nbformat": 4,
 "nbformat_minor": 2
}
