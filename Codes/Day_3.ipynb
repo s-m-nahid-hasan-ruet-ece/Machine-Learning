{
 "cells": [
  {
   "cell_type": "markdown",
   "metadata": {},
   "source": [
    "###  **Today's Topic**\n",
    "\n",
    "- Python Functions, Positional and Keywords Arguments\n",
    "- Python Lambda Functions\n",
    "- Map Funciton in Python\n",
    "- Filter Function in Python\n",
    "- Python List Comprehension\n",
    "- String Formatting in Python\n",
    "- Python Iterables vs Iterators\n",
    "- How to import all important Python Libraries using PyForest\n",
    "\n",
    "\n",
    "\n",
    "###  **Resources** \n",
    "\n",
    "1.  https://www.w3schools.com/python/python_functions.asp\n",
    "2.  https://www.w3schools.com/python/python_lambda.asp\n",
    "3.  https://www.geeksforgeeks.org/python-map-function/\n",
    "4.  https://www.programiz.com/python-programming/methods/built-in/map\n",
    "5.  https://www.w3schools.com/python/ref_func_map.asp\n",
    "6.  https://www.w3schools.com/python/ref_func_filter.asp\n",
    "7.  https://www.geeksforgeeks.org/filter-in-python/\n",
    "8.  https://www.programiz.com/python-programming/methods/built-in/filter\n",
    "9.  https://www.w3schools.com/python/python_lists_comprehension.asp\n",
    "10. https://www.programiz.com/python-programming/list-comprehension\n",
    "11. https://www.geeksforgeeks.org/python-list-comprehension/\n",
    "\n"
   ]
  },
  {
   "cell_type": "code",
   "execution_count": 10,
   "metadata": {},
   "outputs": [
    {
     "name": "stdout",
     "output_type": "stream",
     "text": [
      "Hello World\n",
      "Hi World\n"
     ]
    }
   ],
   "source": [
    "# Basic Custom Function\n",
    "\n",
    "def func(str):\n",
    "    print(str+ \" World\")\n",
    "\n",
    "\n",
    "\n",
    "func(\"Hello\")\n",
    "func(\"Hi\")\n"
   ]
  },
  {
   "cell_type": "code",
   "execution_count": 11,
   "metadata": {},
   "outputs": [
    {
     "name": "stdout",
     "output_type": "stream",
     "text": [
      "The value of second parameter is: 2\n"
     ]
    }
   ],
   "source": [
    "\n",
    "#   Function if parameters are unknown & need to access particular\n",
    "#   positioned parameter\n",
    "\n",
    "\n",
    "def func(*args):\n",
    "    print(\"The value of second parameter is: \"+ args[1])\n",
    "\n",
    "\n",
    "func(\"1\", \"2\", \"3\")"
   ]
  },
  {
   "cell_type": "code",
   "execution_count": 12,
   "metadata": {},
   "outputs": [
    {
     "name": "stdout",
     "output_type": "stream",
     "text": [
      "Smallest number is: One\n"
     ]
    }
   ],
   "source": [
    "#  Keyword arguments: key = value \n",
    "#  If keyword arguments are used then the position of\n",
    "#  the parameters doesn't  matter\n",
    "\n",
    "def func(arg3, arg1, arg2):\n",
    "    print(\"Smallest number is: \"+ arg1)\n",
    "\n",
    "func(arg1 = \"One\", arg2 = \"Two\", arg3 = \"Three\")\n"
   ]
  },
  {
   "cell_type": "code",
   "execution_count": 13,
   "metadata": {},
   "outputs": [
    {
     "name": "stdout",
     "output_type": "stream",
     "text": [
      "Value of Two: 2\n"
     ]
    }
   ],
   "source": [
    "#  If the argument is known then can be accessed using **Parameter\n",
    "\n",
    "def func(**args):\n",
    "    print(\"Value of Two: \"+ args[\"Two\"])\n",
    "\n",
    "\n",
    "func(Three = \"3\", One = \"1\", Two = \"2\")\n"
   ]
  },
  {
   "cell_type": "code",
   "execution_count": 14,
   "metadata": {},
   "outputs": [
    {
     "name": "stdout",
     "output_type": "stream",
     "text": [
      "The value is: One\n",
      "The value is: Two\n",
      "The value is: Four\n"
     ]
    }
   ],
   "source": [
    "#  Default value argument: If argument is null then default \n",
    "#  value will be passed\n",
    "                             \n",
    "def func(arg = \"Two\"):\n",
    "    print(\"The value is: \"+ arg)\n",
    "\n",
    "func(\"One\")\n",
    "func()\n",
    "func(\"Four\")"
   ]
  },
  {
   "cell_type": "code",
   "execution_count": 15,
   "metadata": {},
   "outputs": [
    {
     "name": "stdout",
     "output_type": "stream",
     "text": [
      "Factorial of 10 is: \n",
      "3628800\n"
     ]
    }
   ],
   "source": [
    "# Recursion \n",
    "\n",
    "def factorial(n):\n",
    "    if(n<1):\n",
    "        return 1\n",
    "    else:\n",
    "        return n*factorial(n-1)\n",
    "\n",
    "\n",
    "print(\"Factorial of 10 is: \")\n",
    "print(factorial(10))\n",
    "       \n",
    "      "
   ]
  },
  {
   "cell_type": "code",
   "execution_count": 16,
   "metadata": {},
   "outputs": [
    {
     "name": "stdout",
     "output_type": "stream",
     "text": [
      "15\n"
     ]
    }
   ],
   "source": [
    "#  Lambda Function\n",
    "\n",
    "x = lambda a: a+ 10\n",
    "\n",
    "print(x(5))"
   ]
  },
  {
   "cell_type": "code",
   "execution_count": 17,
   "metadata": {},
   "outputs": [
    {
     "name": "stdout",
     "output_type": "stream",
     "text": [
      "13\n"
     ]
    }
   ],
   "source": [
    "#  Lambda of three arguments\n",
    "\n",
    "x = lambda a, b, c  : a + b + c\n",
    "print(x(5, 6, 2))"
   ]
  },
  {
   "cell_type": "code",
   "execution_count": 18,
   "metadata": {},
   "outputs": [
    {
     "name": "stdout",
     "output_type": "stream",
     "text": [
      "22\n",
      "33\n"
     ]
    }
   ],
   "source": [
    "#  Lamda in function\n",
    "\n",
    "def myfunc(n):\n",
    "  return lambda a : a * n\n",
    "\n",
    "mydoubler = myfunc(2)\n",
    "mytripler = myfunc(3)\n",
    "\n",
    "print(mydoubler(11))\n",
    "print(mytripler(11))"
   ]
  },
  {
   "cell_type": "code",
   "execution_count": 19,
   "metadata": {},
   "outputs": [
    {
     "name": "stdout",
     "output_type": "stream",
     "text": [
      "[1, 4, 9, 16]\n"
     ]
    }
   ],
   "source": [
    "#  map(fun, iter)\n",
    "#  \n",
    "\n",
    "def square(n):\n",
    "    return n*n\n",
    "\n",
    "numbers = (1,2,3,4)\n",
    "\n",
    "result = map(square, numbers)\n",
    "\n",
    "print(list(result))\n"
   ]
  },
  {
   "cell_type": "code",
   "execution_count": 20,
   "metadata": {},
   "outputs": [
    {
     "name": "stdout",
     "output_type": "stream",
     "text": [
      "[1.0, 2.0, 3.0, 4.0]\n"
     ]
    }
   ],
   "source": [
    "#  Using lambda in map()\n",
    "\n",
    "squares = [1, 4, 9, 16]\n",
    "cubes = [1, 8, 27, 64]\n",
    "\n",
    "numbers = map(lambda x, y: y/x , squares, cubes)\n",
    "\n",
    "print(list(numbers))\n",
    "\n",
    "\n"
   ]
  },
  {
   "cell_type": "code",
   "execution_count": 21,
   "metadata": {},
   "outputs": [
    {
     "name": "stdout",
     "output_type": "stream",
     "text": [
      "[['I', 'r', 'o', 'n', 'm', 'a', 'n'], ['S', 'u', 'p', 'e', 'r', 'm', 'a', 'n'], ['B', 'a', 't', 'm', 'a', 'n'], ['S', 'p', 'i', 'd', 'e', 'r', 'm', 'a', 'n']]\n"
     ]
    }
   ],
   "source": [
    "#  map() can identify list of string individually\n",
    "\n",
    "\n",
    "str = ['Ironman', 'Superman', 'Batman', 'Spiderman']\n",
    "\n",
    "s = list(map(list,str))\n",
    "\n",
    "print(s)"
   ]
  },
  {
   "cell_type": "code",
   "execution_count": 22,
   "metadata": {},
   "outputs": [
    {
     "name": "stdout",
     "output_type": "stream",
     "text": [
      "[5, 6, 6]\n"
     ]
    }
   ],
   "source": [
    "#  Determining length of each string of a list of string using map()\n",
    "\n",
    "def myfunc(n):\n",
    "  return len(n)\n",
    "\n",
    "x = map(myfunc, ('apple', 'banana', 'cherry'))\n",
    "\n",
    "print(list(x))"
   ]
  },
  {
   "cell_type": "code",
   "execution_count": 23,
   "metadata": {},
   "outputs": [
    {
     "name": "stdout",
     "output_type": "stream",
     "text": [
      "100\n",
      "4\n",
      "10\n",
      "18\n",
      "22\n"
     ]
    }
   ],
   "source": [
    "#  Filtering an Array using filter()\n",
    "#  filter(function, iterable)\n",
    "\n",
    "\n",
    "array =  [3, 100, 4, 9, 10, 15, 18, 22]\n",
    "\n",
    "def findEven(x):\n",
    "    if(x%2==0):\n",
    "        return True\n",
    "    else:\n",
    "        return False\n",
    "\n",
    "evenNums =  filter(findEven, array)\n",
    "\n",
    "for x in evenNums:\n",
    "    print(x)\n",
    "\n"
   ]
  },
  {
   "cell_type": "code",
   "execution_count": 24,
   "metadata": {},
   "outputs": [
    {
     "name": "stdout",
     "output_type": "stream",
     "text": [
      "['applea', 'bananaa', 'mangoa']\n"
     ]
    }
   ],
   "source": [
    "#  List Comprehension\n",
    "#  newlist = [expression for item in iterable if condition == True]\n",
    "\n",
    "\n",
    "fruits = [\"apple\", \"banana\", \"cherry\", \"kiwi\", \"mango\"]\n",
    "\n",
    "newlist = [x+\"a\" for x in fruits if \"a\" in x]\n",
    "\n",
    "print(newlist)"
   ]
  },
  {
   "cell_type": "code",
   "execution_count": 25,
   "metadata": {},
   "outputs": [
    {
     "name": "stdout",
     "output_type": "stream",
     "text": [
      "The price is 49.128 dollars\n",
      "The price is 49.13 dollars\n"
     ]
    }
   ],
   "source": [
    "price = 49.128\n",
    "txt = \"The price is {} dollars\"\n",
    "print(txt.format(price))\n",
    "\n",
    "txt = \"The price is {:.2f} dollars\"\n",
    "print(txt.format(price))\n"
   ]
  },
  {
   "cell_type": "code",
   "execution_count": 26,
   "metadata": {},
   "outputs": [
    {
     "name": "stdout",
     "output_type": "stream",
     "text": [
      "I want 3 pieces of item number 567 for 49.00 dollars.\n"
     ]
    }
   ],
   "source": [
    "quantity = 3\n",
    "itemno = 567\n",
    "price = 49\n",
    "myorder = \"I want {0} pieces of item number {1} for {2:.2f} dollars.\"\n",
    "print(myorder.format(quantity, itemno, price))"
   ]
  },
  {
   "cell_type": "code",
   "execution_count": 27,
   "metadata": {},
   "outputs": [
    {
     "data": {
      "application/javascript": "\n        if (window._pyforest_update_imports_cell) { window._pyforest_update_imports_cell('import seaborn as sns'); }\n    ",
      "text/plain": [
       "<IPython.core.display.Javascript object>"
      ]
     },
     "metadata": {},
     "output_type": "display_data"
    },
    {
     "data": {
      "text/html": [
       "<div>\n",
       "<style scoped>\n",
       "    .dataframe tbody tr th:only-of-type {\n",
       "        vertical-align: middle;\n",
       "    }\n",
       "\n",
       "    .dataframe tbody tr th {\n",
       "        vertical-align: top;\n",
       "    }\n",
       "\n",
       "    .dataframe thead th {\n",
       "        text-align: right;\n",
       "    }\n",
       "</style>\n",
       "<table border=\"1\" class=\"dataframe\">\n",
       "  <thead>\n",
       "    <tr style=\"text-align: right;\">\n",
       "      <th></th>\n",
       "      <th>survived</th>\n",
       "      <th>pclass</th>\n",
       "      <th>sex</th>\n",
       "      <th>age</th>\n",
       "      <th>sibsp</th>\n",
       "      <th>parch</th>\n",
       "      <th>fare</th>\n",
       "      <th>embarked</th>\n",
       "      <th>class</th>\n",
       "      <th>who</th>\n",
       "      <th>adult_male</th>\n",
       "      <th>deck</th>\n",
       "      <th>embark_town</th>\n",
       "      <th>alive</th>\n",
       "      <th>alone</th>\n",
       "    </tr>\n",
       "  </thead>\n",
       "  <tbody>\n",
       "    <tr>\n",
       "      <th>0</th>\n",
       "      <td>0</td>\n",
       "      <td>3</td>\n",
       "      <td>male</td>\n",
       "      <td>22.0</td>\n",
       "      <td>1</td>\n",
       "      <td>0</td>\n",
       "      <td>7.2500</td>\n",
       "      <td>S</td>\n",
       "      <td>Third</td>\n",
       "      <td>man</td>\n",
       "      <td>True</td>\n",
       "      <td>NaN</td>\n",
       "      <td>Southampton</td>\n",
       "      <td>no</td>\n",
       "      <td>False</td>\n",
       "    </tr>\n",
       "    <tr>\n",
       "      <th>1</th>\n",
       "      <td>1</td>\n",
       "      <td>1</td>\n",
       "      <td>female</td>\n",
       "      <td>38.0</td>\n",
       "      <td>1</td>\n",
       "      <td>0</td>\n",
       "      <td>71.2833</td>\n",
       "      <td>C</td>\n",
       "      <td>First</td>\n",
       "      <td>woman</td>\n",
       "      <td>False</td>\n",
       "      <td>C</td>\n",
       "      <td>Cherbourg</td>\n",
       "      <td>yes</td>\n",
       "      <td>False</td>\n",
       "    </tr>\n",
       "    <tr>\n",
       "      <th>2</th>\n",
       "      <td>1</td>\n",
       "      <td>3</td>\n",
       "      <td>female</td>\n",
       "      <td>26.0</td>\n",
       "      <td>0</td>\n",
       "      <td>0</td>\n",
       "      <td>7.9250</td>\n",
       "      <td>S</td>\n",
       "      <td>Third</td>\n",
       "      <td>woman</td>\n",
       "      <td>False</td>\n",
       "      <td>NaN</td>\n",
       "      <td>Southampton</td>\n",
       "      <td>yes</td>\n",
       "      <td>True</td>\n",
       "    </tr>\n",
       "    <tr>\n",
       "      <th>3</th>\n",
       "      <td>1</td>\n",
       "      <td>1</td>\n",
       "      <td>female</td>\n",
       "      <td>35.0</td>\n",
       "      <td>1</td>\n",
       "      <td>0</td>\n",
       "      <td>53.1000</td>\n",
       "      <td>S</td>\n",
       "      <td>First</td>\n",
       "      <td>woman</td>\n",
       "      <td>False</td>\n",
       "      <td>C</td>\n",
       "      <td>Southampton</td>\n",
       "      <td>yes</td>\n",
       "      <td>False</td>\n",
       "    </tr>\n",
       "    <tr>\n",
       "      <th>4</th>\n",
       "      <td>0</td>\n",
       "      <td>3</td>\n",
       "      <td>male</td>\n",
       "      <td>35.0</td>\n",
       "      <td>0</td>\n",
       "      <td>0</td>\n",
       "      <td>8.0500</td>\n",
       "      <td>S</td>\n",
       "      <td>Third</td>\n",
       "      <td>man</td>\n",
       "      <td>True</td>\n",
       "      <td>NaN</td>\n",
       "      <td>Southampton</td>\n",
       "      <td>no</td>\n",
       "      <td>True</td>\n",
       "    </tr>\n",
       "  </tbody>\n",
       "</table>\n",
       "</div>"
      ],
      "text/plain": [
       "   survived  pclass     sex   age  sibsp  parch     fare embarked  class  \\\n",
       "0         0       3    male  22.0      1      0   7.2500        S  Third   \n",
       "1         1       1  female  38.0      1      0  71.2833        C  First   \n",
       "2         1       3  female  26.0      0      0   7.9250        S  Third   \n",
       "3         1       1  female  35.0      1      0  53.1000        S  First   \n",
       "4         0       3    male  35.0      0      0   8.0500        S  Third   \n",
       "\n",
       "     who  adult_male deck  embark_town alive  alone  \n",
       "0    man        True  NaN  Southampton    no  False  \n",
       "1  woman       False    C    Cherbourg   yes  False  \n",
       "2  woman       False  NaN  Southampton   yes   True  \n",
       "3  woman       False    C  Southampton   yes  False  \n",
       "4    man        True  NaN  Southampton    no   True  "
      ]
     },
     "execution_count": 27,
     "metadata": {},
     "output_type": "execute_result"
    }
   ],
   "source": [
    "#  Installing Pyforest without importing package code works fine\n",
    "\n",
    "data = sns.load_dataset('titanic')\n",
    "\n",
    "data.head()\n",
    "\n",
    "\n"
   ]
  }
 ],
 "metadata": {
  "interpreter": {
   "hash": "dc07d24e2f18896857f0b2a651fe84ba40ce7b297e58d8804a308c8039f752a6"
  },
  "kernelspec": {
   "display_name": "Python 3.9.7 ('base')",
   "language": "python",
   "name": "python3"
  },
  "language_info": {
   "codemirror_mode": {
    "name": "ipython",
    "version": 3
   },
   "file_extension": ".py",
   "mimetype": "text/x-python",
   "name": "python",
   "nbconvert_exporter": "python",
   "pygments_lexer": "ipython3",
   "version": "3.9.7"
  },
  "orig_nbformat": 4
 },
 "nbformat": 4,
 "nbformat_minor": 2
}
