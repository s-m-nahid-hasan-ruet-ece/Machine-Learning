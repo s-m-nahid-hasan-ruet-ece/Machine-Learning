{
 "cells": [
  {
   "cell_type": "markdown",
   "metadata": {},
   "source": [
    "###  **Today's Topic**\n",
    "\n",
    "- Object Oriented Programming in Python"
   ]
  },
  {
   "cell_type": "code",
   "execution_count": 1,
   "metadata": {},
   "outputs": [
    {
     "name": "stdout",
     "output_type": "stream",
     "text": [
      "5\n"
     ]
    }
   ],
   "source": [
    "class myClass:\n",
    "   x = 5\n",
    "\n",
    "\n",
    "obj= myClass()\n",
    "\n",
    "print(obj.x)\n"
   ]
  },
  {
   "cell_type": "code",
   "execution_count": 2,
   "metadata": {},
   "outputs": [
    {
     "name": "stdout",
     "output_type": "stream",
     "text": [
      "Akib\n",
      "30\n"
     ]
    }
   ],
   "source": [
    "#  Construct with parameters\n",
    "\n",
    "class Student:\n",
    "    def __init__(self, name, age):\n",
    "        self.name = name\n",
    "        self.age = age\n",
    "\n",
    "\n",
    "student1 = Student(\"Akib\", 30)\n",
    "\n",
    "print(student1.name)\n",
    "print(student1.age)\n"
   ]
  },
  {
   "cell_type": "code",
   "execution_count": 26,
   "metadata": {},
   "outputs": [
    {
     "name": "stdout",
     "output_type": "stream",
     "text": [
      "3\n",
      "-1\n",
      "20\n",
      "5.0\n"
     ]
    }
   ],
   "source": [
    "class MathFunc:\n",
    "    \n",
    "    def __init__(thisObj, number1, number2 ):\n",
    "        thisObj.number1 = number1\n",
    "        thisObj.number2 = number2    \n",
    "    \n",
    "    def Add(thisObj):\n",
    "        return thisObj.number1 + thisObj.number2\n",
    "\n",
    "    def Sub(thisObj):\n",
    "        return thisObj.number1 - thisObj.number2 \n",
    "\n",
    "    def Mul(thisObj):\n",
    "        return thisObj.number1* thisObj.number2\n",
    "    \n",
    "    def Div(thisObj):\n",
    "        return thisObj.number1 / thisObj.number2\n",
    "\n",
    "\n",
    "\n",
    "        \n",
    "ob = MathFunc(1,2)\n",
    "\n",
    "print(ob.Add())\n",
    "print(ob.Sub())\n",
    "\n",
    "ob.number1 = 10\n",
    "print(ob.Mul())\n",
    "print(ob.Div())\n",
    "\n",
    "# del ob.number1\n",
    "# print(ob.number2)\n",
    "# print(ob.Add())\n",
    "\n",
    "\n",
    "\n",
    "    \n",
    "         "
   ]
  },
  {
   "cell_type": "code",
   "execution_count": 28,
   "metadata": {},
   "outputs": [
    {
     "name": "stdout",
     "output_type": "stream",
     "text": [
      "Welcome Mike Olsen to the class of 2019\n"
     ]
    }
   ],
   "source": [
    "class Person:\n",
    "  def __init__(self, fname, lname):\n",
    "    self.firstname = fname\n",
    "    self.lastname = lname\n",
    "\n",
    "  def printname(self):\n",
    "    print(self.firstname, self.lastname)\n",
    "\n",
    "class Student(Person):\n",
    "  def __init__(self, fname, lname, year):\n",
    "    super().__init__(fname, lname)\n",
    "    self.graduationyear = year\n",
    "\n",
    "  def welcome(self):\n",
    "    print(\"Welcome\", self.firstname, self.lastname, \"to the class of\", self.graduationyear)\n",
    "\n",
    "x = Student(\"Mike\", \"Olsen\", 2019)\n",
    "x.welcome()\n"
   ]
  }
 ],
 "metadata": {
  "interpreter": {
   "hash": "dc07d24e2f18896857f0b2a651fe84ba40ce7b297e58d8804a308c8039f752a6"
  },
  "kernelspec": {
   "display_name": "Python 3.9.7 ('base')",
   "language": "python",
   "name": "python3"
  },
  "language_info": {
   "codemirror_mode": {
    "name": "ipython",
    "version": 3
   },
   "file_extension": ".py",
   "mimetype": "text/x-python",
   "name": "python",
   "nbconvert_exporter": "python",
   "pygments_lexer": "ipython3",
   "version": "3.9.7"
  },
  "orig_nbformat": 4
 },
 "nbformat": 4,
 "nbformat_minor": 2
}
